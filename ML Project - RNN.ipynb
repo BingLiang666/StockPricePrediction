{
 "cells": [
  {
   "cell_type": "code",
   "execution_count": 1,
   "id": "8d957f0f",
   "metadata": {},
   "outputs": [],
   "source": [
    "import pandas as pd"
   ]
  },
  {
   "cell_type": "code",
   "execution_count": 2,
   "id": "5e78346f",
   "metadata": {},
   "outputs": [
    {
     "data": {
      "text/html": [
       "<div>\n",
       "<style scoped>\n",
       "    .dataframe tbody tr th:only-of-type {\n",
       "        vertical-align: middle;\n",
       "    }\n",
       "\n",
       "    .dataframe tbody tr th {\n",
       "        vertical-align: top;\n",
       "    }\n",
       "\n",
       "    .dataframe thead th {\n",
       "        text-align: right;\n",
       "    }\n",
       "</style>\n",
       "<table border=\"1\" class=\"dataframe\">\n",
       "  <thead>\n",
       "    <tr style=\"text-align: right;\">\n",
       "      <th></th>\n",
       "      <th>index</th>\n",
       "      <th>Date</th>\n",
       "      <th>Tweet</th>\n",
       "      <th>Clean_Tweet</th>\n",
       "      <th>Negative</th>\n",
       "      <th>Neutral</th>\n",
       "      <th>Positive</th>\n",
       "      <th>Sentiment</th>\n",
       "      <th>tweet_date</th>\n",
       "      <th>cross_join_key</th>\n",
       "      <th>Open</th>\n",
       "      <th>High</th>\n",
       "      <th>Low</th>\n",
       "      <th>Close</th>\n",
       "      <th>Adj Close</th>\n",
       "      <th>Volume</th>\n",
       "      <th>stock_date</th>\n",
       "      <th>next_adj_close</th>\n",
       "      <th>target</th>\n",
       "    </tr>\n",
       "  </thead>\n",
       "  <tbody>\n",
       "    <tr>\n",
       "      <th>282884</th>\n",
       "      <td>282884</td>\n",
       "      <td>2022-12-05 22:47:52+00:00</td>\n",
       "      <td>ChatGPT is the new google \\n\\n#ChatGPT #Google...</td>\n",
       "      <td>ChatGPT is the new google \\n\\n#ChatGPT #Google...</td>\n",
       "      <td>0.006317</td>\n",
       "      <td>0.242914</td>\n",
       "      <td>0.750770</td>\n",
       "      <td>1</td>\n",
       "      <td>2022-12-05</td>\n",
       "      <td>dummy</td>\n",
       "      <td>250.820007</td>\n",
       "      <td>251.860001</td>\n",
       "      <td>243.779999</td>\n",
       "      <td>245.119995</td>\n",
       "      <td>244.507568</td>\n",
       "      <td>22463700</td>\n",
       "      <td>2022-12-06</td>\n",
       "      <td>243.759445</td>\n",
       "      <td>-6.312439</td>\n",
       "    </tr>\n",
       "    <tr>\n",
       "      <th>282885</th>\n",
       "      <td>282885</td>\n",
       "      <td>2022-12-05 22:47:46+00:00</td>\n",
       "      <td>I wonder how much productivity ChatGPT is cost...</td>\n",
       "      <td>I wonder how much productivity ChatGPT is cost...</td>\n",
       "      <td>0.621412</td>\n",
       "      <td>0.335785</td>\n",
       "      <td>0.042804</td>\n",
       "      <td>-1</td>\n",
       "      <td>2022-12-05</td>\n",
       "      <td>dummy</td>\n",
       "      <td>250.820007</td>\n",
       "      <td>251.860001</td>\n",
       "      <td>243.779999</td>\n",
       "      <td>245.119995</td>\n",
       "      <td>244.507568</td>\n",
       "      <td>22463700</td>\n",
       "      <td>2022-12-06</td>\n",
       "      <td>243.759445</td>\n",
       "      <td>-6.312439</td>\n",
       "    </tr>\n",
       "    <tr>\n",
       "      <th>282886</th>\n",
       "      <td>282886</td>\n",
       "      <td>2022-12-05 22:47:46+00:00</td>\n",
       "      <td>\"Innovation is the key to unlocking the potent...</td>\n",
       "      <td>\"Innovation is the key to unlocking the potent...</td>\n",
       "      <td>0.002545</td>\n",
       "      <td>0.085286</td>\n",
       "      <td>0.912170</td>\n",
       "      <td>1</td>\n",
       "      <td>2022-12-05</td>\n",
       "      <td>dummy</td>\n",
       "      <td>250.820007</td>\n",
       "      <td>251.860001</td>\n",
       "      <td>243.779999</td>\n",
       "      <td>245.119995</td>\n",
       "      <td>244.507568</td>\n",
       "      <td>22463700</td>\n",
       "      <td>2022-12-06</td>\n",
       "      <td>243.759445</td>\n",
       "      <td>-6.312439</td>\n",
       "    </tr>\n",
       "    <tr>\n",
       "      <th>282887</th>\n",
       "      <td>282887</td>\n",
       "      <td>2022-12-05 22:47:30+00:00</td>\n",
       "      <td>💭 chatgpt vs nyt a decisive blow in the shape ...</td>\n",
       "      <td>💭 chatgpt vs nyt a decisive blow in the shape ...</td>\n",
       "      <td>0.478707</td>\n",
       "      <td>0.505734</td>\n",
       "      <td>0.015560</td>\n",
       "      <td>0</td>\n",
       "      <td>2022-12-05</td>\n",
       "      <td>dummy</td>\n",
       "      <td>250.820007</td>\n",
       "      <td>251.860001</td>\n",
       "      <td>243.779999</td>\n",
       "      <td>245.119995</td>\n",
       "      <td>244.507568</td>\n",
       "      <td>22463700</td>\n",
       "      <td>2022-12-06</td>\n",
       "      <td>243.759445</td>\n",
       "      <td>-6.312439</td>\n",
       "    </tr>\n",
       "    <tr>\n",
       "      <th>282888</th>\n",
       "      <td>282888</td>\n",
       "      <td>2022-12-05 22:47:21+00:00</td>\n",
       "      <td>If you feed a thoughtful outline of peer feedb...</td>\n",
       "      <td>If you feed a thoughtful outline of peer feedb...</td>\n",
       "      <td>0.096461</td>\n",
       "      <td>0.401893</td>\n",
       "      <td>0.501646</td>\n",
       "      <td>1</td>\n",
       "      <td>2022-12-05</td>\n",
       "      <td>dummy</td>\n",
       "      <td>250.820007</td>\n",
       "      <td>251.860001</td>\n",
       "      <td>243.779999</td>\n",
       "      <td>245.119995</td>\n",
       "      <td>244.507568</td>\n",
       "      <td>22463700</td>\n",
       "      <td>2022-12-06</td>\n",
       "      <td>243.759445</td>\n",
       "      <td>-6.312439</td>\n",
       "    </tr>\n",
       "  </tbody>\n",
       "</table>\n",
       "</div>"
      ],
      "text/plain": [
       "         index                       Date  \\\n",
       "282884  282884  2022-12-05 22:47:52+00:00   \n",
       "282885  282885  2022-12-05 22:47:46+00:00   \n",
       "282886  282886  2022-12-05 22:47:46+00:00   \n",
       "282887  282887  2022-12-05 22:47:30+00:00   \n",
       "282888  282888  2022-12-05 22:47:21+00:00   \n",
       "\n",
       "                                                    Tweet  \\\n",
       "282884  ChatGPT is the new google \\n\\n#ChatGPT #Google...   \n",
       "282885  I wonder how much productivity ChatGPT is cost...   \n",
       "282886  \"Innovation is the key to unlocking the potent...   \n",
       "282887  💭 chatgpt vs nyt a decisive blow in the shape ...   \n",
       "282888  If you feed a thoughtful outline of peer feedb...   \n",
       "\n",
       "                                              Clean_Tweet  Negative   Neutral  \\\n",
       "282884  ChatGPT is the new google \\n\\n#ChatGPT #Google...  0.006317  0.242914   \n",
       "282885  I wonder how much productivity ChatGPT is cost...  0.621412  0.335785   \n",
       "282886  \"Innovation is the key to unlocking the potent...  0.002545  0.085286   \n",
       "282887  💭 chatgpt vs nyt a decisive blow in the shape ...  0.478707  0.505734   \n",
       "282888  If you feed a thoughtful outline of peer feedb...  0.096461  0.401893   \n",
       "\n",
       "        Positive  Sentiment  tweet_date cross_join_key        Open  \\\n",
       "282884  0.750770          1  2022-12-05          dummy  250.820007   \n",
       "282885  0.042804         -1  2022-12-05          dummy  250.820007   \n",
       "282886  0.912170          1  2022-12-05          dummy  250.820007   \n",
       "282887  0.015560          0  2022-12-05          dummy  250.820007   \n",
       "282888  0.501646          1  2022-12-05          dummy  250.820007   \n",
       "\n",
       "              High         Low       Close   Adj Close    Volume  stock_date  \\\n",
       "282884  251.860001  243.779999  245.119995  244.507568  22463700  2022-12-06   \n",
       "282885  251.860001  243.779999  245.119995  244.507568  22463700  2022-12-06   \n",
       "282886  251.860001  243.779999  245.119995  244.507568  22463700  2022-12-06   \n",
       "282887  251.860001  243.779999  245.119995  244.507568  22463700  2022-12-06   \n",
       "282888  251.860001  243.779999  245.119995  244.507568  22463700  2022-12-06   \n",
       "\n",
       "        next_adj_close    target  \n",
       "282884      243.759445 -6.312439  \n",
       "282885      243.759445 -6.312439  \n",
       "282886      243.759445 -6.312439  \n",
       "282887      243.759445 -6.312439  \n",
       "282888      243.759445 -6.312439  "
      ]
     },
     "execution_count": 2,
     "metadata": {},
     "output_type": "execute_result"
    }
   ],
   "source": [
    "df = pd.read_csv('merged_tweets_and_stock_prices.csv')\n",
    "df.tail()"
   ]
  },
  {
   "cell_type": "code",
   "execution_count": 3,
   "id": "388a7bf9",
   "metadata": {},
   "outputs": [
    {
     "data": {
      "text/html": [
       "<div>\n",
       "<style scoped>\n",
       "    .dataframe tbody tr th:only-of-type {\n",
       "        vertical-align: middle;\n",
       "    }\n",
       "\n",
       "    .dataframe tbody tr th {\n",
       "        vertical-align: top;\n",
       "    }\n",
       "\n",
       "    .dataframe thead th {\n",
       "        text-align: right;\n",
       "    }\n",
       "</style>\n",
       "<table border=\"1\" class=\"dataframe\">\n",
       "  <thead>\n",
       "    <tr style=\"text-align: right;\">\n",
       "      <th></th>\n",
       "      <th>index</th>\n",
       "      <th>Negative</th>\n",
       "      <th>Neutral</th>\n",
       "      <th>Positive</th>\n",
       "      <th>Sentiment</th>\n",
       "      <th>Open</th>\n",
       "      <th>High</th>\n",
       "      <th>Low</th>\n",
       "      <th>Close</th>\n",
       "      <th>Adj Close</th>\n",
       "      <th>Volume</th>\n",
       "      <th>next_adj_close</th>\n",
       "      <th>target</th>\n",
       "    </tr>\n",
       "  </thead>\n",
       "  <tbody>\n",
       "    <tr>\n",
       "      <th>count</th>\n",
       "      <td>282889.000000</td>\n",
       "      <td>282889.000000</td>\n",
       "      <td>282889.000000</td>\n",
       "      <td>282889.000000</td>\n",
       "      <td>282889.000000</td>\n",
       "      <td>282889.000000</td>\n",
       "      <td>282889.000000</td>\n",
       "      <td>282889.000000</td>\n",
       "      <td>282889.000000</td>\n",
       "      <td>282889.000000</td>\n",
       "      <td>2.828890e+05</td>\n",
       "      <td>267771.000000</td>\n",
       "      <td>282889.000000</td>\n",
       "    </tr>\n",
       "    <tr>\n",
       "      <th>mean</th>\n",
       "      <td>141444.000000</td>\n",
       "      <td>0.237695</td>\n",
       "      <td>0.410182</td>\n",
       "      <td>0.352124</td>\n",
       "      <td>0.107222</td>\n",
       "      <td>251.669203</td>\n",
       "      <td>255.107101</td>\n",
       "      <td>248.987593</td>\n",
       "      <td>252.258571</td>\n",
       "      <td>251.877256</td>\n",
       "      <td>3.333467e+07</td>\n",
       "      <td>251.422878</td>\n",
       "      <td>0.208053</td>\n",
       "    </tr>\n",
       "    <tr>\n",
       "      <th>std</th>\n",
       "      <td>81663.164488</td>\n",
       "      <td>0.287795</td>\n",
       "      <td>0.262755</td>\n",
       "      <td>0.341406</td>\n",
       "      <td>0.747898</td>\n",
       "      <td>13.310655</td>\n",
       "      <td>13.748274</td>\n",
       "      <td>12.742042</td>\n",
       "      <td>13.367488</td>\n",
       "      <td>13.491242</td>\n",
       "      <td>1.179226e+07</td>\n",
       "      <td>13.823685</td>\n",
       "      <td>4.025408</td>\n",
       "    </tr>\n",
       "    <tr>\n",
       "      <th>min</th>\n",
       "      <td>0.000000</td>\n",
       "      <td>0.000592</td>\n",
       "      <td>0.004486</td>\n",
       "      <td>0.001654</td>\n",
       "      <td>-1.000000</td>\n",
       "      <td>223.000000</td>\n",
       "      <td>225.759995</td>\n",
       "      <td>219.350006</td>\n",
       "      <td>222.309998</td>\n",
       "      <td>221.754562</td>\n",
       "      <td>1.668860e+07</td>\n",
       "      <td>221.754562</td>\n",
       "      <td>-10.838623</td>\n",
       "    </tr>\n",
       "    <tr>\n",
       "      <th>25%</th>\n",
       "      <td>70722.000000</td>\n",
       "      <td>0.012096</td>\n",
       "      <td>0.177693</td>\n",
       "      <td>0.055182</td>\n",
       "      <td>0.000000</td>\n",
       "      <td>242.500000</td>\n",
       "      <td>245.169998</td>\n",
       "      <td>238.710007</td>\n",
       "      <td>241.800003</td>\n",
       "      <td>241.195877</td>\n",
       "      <td>2.581850e+07</td>\n",
       "      <td>240.407837</td>\n",
       "      <td>-2.406388</td>\n",
       "    </tr>\n",
       "    <tr>\n",
       "      <th>50%</th>\n",
       "      <td>141444.000000</td>\n",
       "      <td>0.083892</td>\n",
       "      <td>0.398439</td>\n",
       "      <td>0.193159</td>\n",
       "      <td>0.000000</td>\n",
       "      <td>251.080002</td>\n",
       "      <td>254.339996</td>\n",
       "      <td>248.729996</td>\n",
       "      <td>252.509995</td>\n",
       "      <td>251.879105</td>\n",
       "      <td>2.969640e+07</td>\n",
       "      <td>251.509995</td>\n",
       "      <td>0.102554</td>\n",
       "    </tr>\n",
       "    <tr>\n",
       "      <th>75%</th>\n",
       "      <td>212166.000000</td>\n",
       "      <td>0.419946</td>\n",
       "      <td>0.615573</td>\n",
       "      <td>0.669267</td>\n",
       "      <td>1.000000</td>\n",
       "      <td>259.980011</td>\n",
       "      <td>264.200012</td>\n",
       "      <td>257.250000</td>\n",
       "      <td>263.100006</td>\n",
       "      <td>262.442657</td>\n",
       "      <td>4.023440e+07</td>\n",
       "      <td>260.790009</td>\n",
       "      <td>3.002105</td>\n",
       "    </tr>\n",
       "    <tr>\n",
       "      <th>max</th>\n",
       "      <td>282888.000000</td>\n",
       "      <td>0.984475</td>\n",
       "      <td>0.952225</td>\n",
       "      <td>0.993837</td>\n",
       "      <td>1.000000</td>\n",
       "      <td>278.260010</td>\n",
       "      <td>283.329987</td>\n",
       "      <td>276.320007</td>\n",
       "      <td>279.429993</td>\n",
       "      <td>279.429993</td>\n",
       "      <td>8.610200e+07</td>\n",
       "      <td>279.429993</td>\n",
       "      <td>10.990021</td>\n",
       "    </tr>\n",
       "  </tbody>\n",
       "</table>\n",
       "</div>"
      ],
      "text/plain": [
       "               index       Negative        Neutral       Positive  \\\n",
       "count  282889.000000  282889.000000  282889.000000  282889.000000   \n",
       "mean   141444.000000       0.237695       0.410182       0.352124   \n",
       "std     81663.164488       0.287795       0.262755       0.341406   \n",
       "min         0.000000       0.000592       0.004486       0.001654   \n",
       "25%     70722.000000       0.012096       0.177693       0.055182   \n",
       "50%    141444.000000       0.083892       0.398439       0.193159   \n",
       "75%    212166.000000       0.419946       0.615573       0.669267   \n",
       "max    282888.000000       0.984475       0.952225       0.993837   \n",
       "\n",
       "           Sentiment           Open           High            Low  \\\n",
       "count  282889.000000  282889.000000  282889.000000  282889.000000   \n",
       "mean        0.107222     251.669203     255.107101     248.987593   \n",
       "std         0.747898      13.310655      13.748274      12.742042   \n",
       "min        -1.000000     223.000000     225.759995     219.350006   \n",
       "25%         0.000000     242.500000     245.169998     238.710007   \n",
       "50%         0.000000     251.080002     254.339996     248.729996   \n",
       "75%         1.000000     259.980011     264.200012     257.250000   \n",
       "max         1.000000     278.260010     283.329987     276.320007   \n",
       "\n",
       "               Close      Adj Close        Volume  next_adj_close  \\\n",
       "count  282889.000000  282889.000000  2.828890e+05   267771.000000   \n",
       "mean      252.258571     251.877256  3.333467e+07      251.422878   \n",
       "std        13.367488      13.491242  1.179226e+07       13.823685   \n",
       "min       222.309998     221.754562  1.668860e+07      221.754562   \n",
       "25%       241.800003     241.195877  2.581850e+07      240.407837   \n",
       "50%       252.509995     251.879105  2.969640e+07      251.509995   \n",
       "75%       263.100006     262.442657  4.023440e+07      260.790009   \n",
       "max       279.429993     279.429993  8.610200e+07      279.429993   \n",
       "\n",
       "              target  \n",
       "count  282889.000000  \n",
       "mean        0.208053  \n",
       "std         4.025408  \n",
       "min       -10.838623  \n",
       "25%        -2.406388  \n",
       "50%         0.102554  \n",
       "75%         3.002105  \n",
       "max        10.990021  "
      ]
     },
     "execution_count": 3,
     "metadata": {},
     "output_type": "execute_result"
    }
   ],
   "source": [
    "df.describe()"
   ]
  },
  {
   "cell_type": "code",
   "execution_count": 4,
   "id": "c23de9c1",
   "metadata": {},
   "outputs": [
    {
     "name": "stdout",
     "output_type": "stream",
     "text": [
      "<class 'pandas.core.frame.DataFrame'>\n",
      "RangeIndex: 282889 entries, 0 to 282888\n",
      "Data columns (total 19 columns):\n",
      " #   Column          Non-Null Count   Dtype  \n",
      "---  ------          --------------   -----  \n",
      " 0   index           282889 non-null  int64  \n",
      " 1   Date            282889 non-null  object \n",
      " 2   Tweet           282889 non-null  object \n",
      " 3   Clean_Tweet     282889 non-null  object \n",
      " 4   Negative        282889 non-null  float64\n",
      " 5   Neutral         282889 non-null  float64\n",
      " 6   Positive        282889 non-null  float64\n",
      " 7   Sentiment       282889 non-null  int64  \n",
      " 8   tweet_date      282889 non-null  object \n",
      " 9   cross_join_key  282889 non-null  object \n",
      " 10  Open            282889 non-null  float64\n",
      " 11  High            282889 non-null  float64\n",
      " 12  Low             282889 non-null  float64\n",
      " 13  Close           282889 non-null  float64\n",
      " 14  Adj Close       282889 non-null  float64\n",
      " 15  Volume          282889 non-null  int64  \n",
      " 16  stock_date      282889 non-null  object \n",
      " 17  next_adj_close  267771 non-null  float64\n",
      " 18  target          282889 non-null  float64\n",
      "dtypes: float64(10), int64(3), object(6)\n",
      "memory usage: 41.0+ MB\n"
     ]
    }
   ],
   "source": [
    "df.info()"
   ]
  },
  {
   "cell_type": "code",
   "execution_count": 5,
   "id": "f5d61658",
   "metadata": {},
   "outputs": [
    {
     "data": {
      "text/plain": [
       "index                 0\n",
       "Date                  0\n",
       "Tweet                 0\n",
       "Clean_Tweet           0\n",
       "Negative              0\n",
       "Neutral               0\n",
       "Positive              0\n",
       "Sentiment             0\n",
       "tweet_date            0\n",
       "cross_join_key        0\n",
       "Open                  0\n",
       "High                  0\n",
       "Low                   0\n",
       "Close                 0\n",
       "Adj Close             0\n",
       "Volume                0\n",
       "stock_date            0\n",
       "next_adj_close    15118\n",
       "target                0\n",
       "dtype: int64"
      ]
     },
     "execution_count": 5,
     "metadata": {},
     "output_type": "execute_result"
    }
   ],
   "source": [
    "# check missing values\n",
    "df.isnull().sum()"
   ]
  },
  {
   "cell_type": "code",
   "execution_count": 6,
   "id": "6ad297b6",
   "metadata": {},
   "outputs": [
    {
     "data": {
      "text/plain": [
       "index             0.000000\n",
       "Date              0.000000\n",
       "Tweet             0.000000\n",
       "Clean_Tweet       0.000000\n",
       "Negative          0.000000\n",
       "Neutral           0.000000\n",
       "Positive          0.000000\n",
       "Sentiment         0.000000\n",
       "tweet_date        0.000000\n",
       "cross_join_key    0.000000\n",
       "Open              0.000000\n",
       "High              0.000000\n",
       "Low               0.000000\n",
       "Close             0.000000\n",
       "Adj Close         0.000000\n",
       "Volume            0.000000\n",
       "stock_date        0.000000\n",
       "next_adj_close    5.344146\n",
       "target            0.000000\n",
       "dtype: float64"
      ]
     },
     "execution_count": 6,
     "metadata": {},
     "output_type": "execute_result"
    }
   ],
   "source": [
    "# percentage of missing values\n",
    "\n",
    "100 * df.isnull().sum() / len(df)"
   ]
  },
  {
   "cell_type": "code",
   "execution_count": 7,
   "id": "35ec8a54",
   "metadata": {},
   "outputs": [],
   "source": [
    "# drop missing values()\n",
    "df = df.dropna()"
   ]
  },
  {
   "cell_type": "code",
   "execution_count": 8,
   "id": "b6b76ccf",
   "metadata": {},
   "outputs": [
    {
     "name": "stdout",
     "output_type": "stream",
     "text": [
      "<class 'pandas.core.frame.DataFrame'>\n",
      "Int64Index: 267771 entries, 15118 to 282888\n",
      "Data columns (total 19 columns):\n",
      " #   Column          Non-Null Count   Dtype  \n",
      "---  ------          --------------   -----  \n",
      " 0   index           267771 non-null  int64  \n",
      " 1   Date            267771 non-null  object \n",
      " 2   Tweet           267771 non-null  object \n",
      " 3   Clean_Tweet     267771 non-null  object \n",
      " 4   Negative        267771 non-null  float64\n",
      " 5   Neutral         267771 non-null  float64\n",
      " 6   Positive        267771 non-null  float64\n",
      " 7   Sentiment       267771 non-null  int64  \n",
      " 8   tweet_date      267771 non-null  object \n",
      " 9   cross_join_key  267771 non-null  object \n",
      " 10  Open            267771 non-null  float64\n",
      " 11  High            267771 non-null  float64\n",
      " 12  Low             267771 non-null  float64\n",
      " 13  Close           267771 non-null  float64\n",
      " 14  Adj Close       267771 non-null  float64\n",
      " 15  Volume          267771 non-null  int64  \n",
      " 16  stock_date      267771 non-null  object \n",
      " 17  next_adj_close  267771 non-null  float64\n",
      " 18  target          267771 non-null  float64\n",
      "dtypes: float64(10), int64(3), object(6)\n",
      "memory usage: 40.9+ MB\n"
     ]
    }
   ],
   "source": [
    "df.info()"
   ]
  },
  {
   "cell_type": "code",
   "execution_count": null,
   "id": "9418ffcc",
   "metadata": {},
   "outputs": [],
   "source": []
  },
  {
   "cell_type": "code",
   "execution_count": null,
   "id": "ee0423b3",
   "metadata": {},
   "outputs": [],
   "source": []
  },
  {
   "cell_type": "markdown",
   "id": "b4a58344",
   "metadata": {},
   "source": [
    "# EDA"
   ]
  },
  {
   "cell_type": "code",
   "execution_count": 9,
   "id": "d6615413",
   "metadata": {},
   "outputs": [
    {
     "name": "stdout",
     "output_type": "stream",
     "text": [
      "<class 'pandas.core.frame.DataFrame'>\n",
      "Int64Index: 267771 entries, 15118 to 282888\n",
      "Data columns (total 19 columns):\n",
      " #   Column          Non-Null Count   Dtype  \n",
      "---  ------          --------------   -----  \n",
      " 0   index           267771 non-null  int64  \n",
      " 1   Date            267771 non-null  object \n",
      " 2   Tweet           267771 non-null  object \n",
      " 3   Clean_Tweet     267771 non-null  object \n",
      " 4   Negative        267771 non-null  float64\n",
      " 5   Neutral         267771 non-null  float64\n",
      " 6   Positive        267771 non-null  float64\n",
      " 7   Sentiment       267771 non-null  int64  \n",
      " 8   tweet_date      267771 non-null  object \n",
      " 9   cross_join_key  267771 non-null  object \n",
      " 10  Open            267771 non-null  float64\n",
      " 11  High            267771 non-null  float64\n",
      " 12  Low             267771 non-null  float64\n",
      " 13  Close           267771 non-null  float64\n",
      " 14  Adj Close       267771 non-null  float64\n",
      " 15  Volume          267771 non-null  int64  \n",
      " 16  stock_date      267771 non-null  object \n",
      " 17  next_adj_close  267771 non-null  float64\n",
      " 18  target          267771 non-null  float64\n",
      "dtypes: float64(10), int64(3), object(6)\n",
      "memory usage: 40.9+ MB\n"
     ]
    }
   ],
   "source": [
    "df.info()"
   ]
  },
  {
   "cell_type": "code",
   "execution_count": 10,
   "id": "a3705d1f",
   "metadata": {},
   "outputs": [
    {
     "data": {
      "text/html": [
       "<div>\n",
       "<style scoped>\n",
       "    .dataframe tbody tr th:only-of-type {\n",
       "        vertical-align: middle;\n",
       "    }\n",
       "\n",
       "    .dataframe tbody tr th {\n",
       "        vertical-align: top;\n",
       "    }\n",
       "\n",
       "    .dataframe thead th {\n",
       "        text-align: right;\n",
       "    }\n",
       "</style>\n",
       "<table border=\"1\" class=\"dataframe\">\n",
       "  <thead>\n",
       "    <tr style=\"text-align: right;\">\n",
       "      <th></th>\n",
       "      <th>index</th>\n",
       "      <th>Negative</th>\n",
       "      <th>Neutral</th>\n",
       "      <th>Positive</th>\n",
       "      <th>Sentiment</th>\n",
       "      <th>Open</th>\n",
       "      <th>High</th>\n",
       "      <th>Low</th>\n",
       "      <th>Close</th>\n",
       "      <th>Adj Close</th>\n",
       "      <th>Volume</th>\n",
       "      <th>next_adj_close</th>\n",
       "      <th>target</th>\n",
       "    </tr>\n",
       "  </thead>\n",
       "  <tbody>\n",
       "    <tr>\n",
       "      <th>count</th>\n",
       "      <td>267771.000000</td>\n",
       "      <td>267771.000000</td>\n",
       "      <td>267771.000000</td>\n",
       "      <td>267771.000000</td>\n",
       "      <td>267771.000000</td>\n",
       "      <td>267771.000000</td>\n",
       "      <td>267771.000000</td>\n",
       "      <td>267771.000000</td>\n",
       "      <td>267771.000000</td>\n",
       "      <td>267771.000000</td>\n",
       "      <td>2.677710e+05</td>\n",
       "      <td>267771.000000</td>\n",
       "      <td>267771.000000</td>\n",
       "    </tr>\n",
       "    <tr>\n",
       "      <th>mean</th>\n",
       "      <td>149003.000000</td>\n",
       "      <td>0.237696</td>\n",
       "      <td>0.409734</td>\n",
       "      <td>0.352570</td>\n",
       "      <td>0.107857</td>\n",
       "      <td>250.240188</td>\n",
       "      <td>253.843956</td>\n",
       "      <td>247.809729</td>\n",
       "      <td>251.131009</td>\n",
       "      <td>250.728166</td>\n",
       "      <td>3.276263e+07</td>\n",
       "      <td>251.422878</td>\n",
       "      <td>0.487978</td>\n",
       "    </tr>\n",
       "    <tr>\n",
       "      <th>std</th>\n",
       "      <td>77298.973803</td>\n",
       "      <td>0.287829</td>\n",
       "      <td>0.262544</td>\n",
       "      <td>0.341515</td>\n",
       "      <td>0.748104</td>\n",
       "      <td>12.205114</td>\n",
       "      <td>13.031912</td>\n",
       "      <td>12.065062</td>\n",
       "      <td>12.844760</td>\n",
       "      <td>12.945357</td>\n",
       "      <td>1.186530e+07</td>\n",
       "      <td>13.823685</td>\n",
       "      <td>3.956326</td>\n",
       "    </tr>\n",
       "    <tr>\n",
       "      <th>min</th>\n",
       "      <td>15118.000000</td>\n",
       "      <td>0.000592</td>\n",
       "      <td>0.004486</td>\n",
       "      <td>0.001654</td>\n",
       "      <td>-1.000000</td>\n",
       "      <td>223.000000</td>\n",
       "      <td>225.759995</td>\n",
       "      <td>219.350006</td>\n",
       "      <td>222.309998</td>\n",
       "      <td>221.754562</td>\n",
       "      <td>1.668860e+07</td>\n",
       "      <td>221.754562</td>\n",
       "      <td>-10.838623</td>\n",
       "    </tr>\n",
       "    <tr>\n",
       "      <th>25%</th>\n",
       "      <td>82060.500000</td>\n",
       "      <td>0.012058</td>\n",
       "      <td>0.177404</td>\n",
       "      <td>0.055313</td>\n",
       "      <td>0.000000</td>\n",
       "      <td>241.570007</td>\n",
       "      <td>245.169998</td>\n",
       "      <td>238.710007</td>\n",
       "      <td>240.610001</td>\n",
       "      <td>240.008850</td>\n",
       "      <td>2.574000e+07</td>\n",
       "      <td>240.407837</td>\n",
       "      <td>-2.149994</td>\n",
       "    </tr>\n",
       "    <tr>\n",
       "      <th>50%</th>\n",
       "      <td>149003.000000</td>\n",
       "      <td>0.083787</td>\n",
       "      <td>0.398037</td>\n",
       "      <td>0.194008</td>\n",
       "      <td>0.000000</td>\n",
       "      <td>249.960007</td>\n",
       "      <td>252.820007</td>\n",
       "      <td>247.339996</td>\n",
       "      <td>251.110001</td>\n",
       "      <td>251.110001</td>\n",
       "      <td>2.921910e+07</td>\n",
       "      <td>251.509995</td>\n",
       "      <td>0.106827</td>\n",
       "    </tr>\n",
       "    <tr>\n",
       "      <th>75%</th>\n",
       "      <td>215945.500000</td>\n",
       "      <td>0.420147</td>\n",
       "      <td>0.614765</td>\n",
       "      <td>0.669903</td>\n",
       "      <td>1.000000</td>\n",
       "      <td>258.820007</td>\n",
       "      <td>262.589996</td>\n",
       "      <td>256.000000</td>\n",
       "      <td>258.059998</td>\n",
       "      <td>257.704529</td>\n",
       "      <td>3.704790e+07</td>\n",
       "      <td>260.790009</td>\n",
       "      <td>3.002105</td>\n",
       "    </tr>\n",
       "    <tr>\n",
       "      <th>max</th>\n",
       "      <td>282888.000000</td>\n",
       "      <td>0.984475</td>\n",
       "      <td>0.952225</td>\n",
       "      <td>0.993837</td>\n",
       "      <td>1.000000</td>\n",
       "      <td>278.260010</td>\n",
       "      <td>283.329987</td>\n",
       "      <td>276.320007</td>\n",
       "      <td>279.429993</td>\n",
       "      <td>279.429993</td>\n",
       "      <td>8.610200e+07</td>\n",
       "      <td>279.429993</td>\n",
       "      <td>10.990021</td>\n",
       "    </tr>\n",
       "  </tbody>\n",
       "</table>\n",
       "</div>"
      ],
      "text/plain": [
       "               index       Negative        Neutral       Positive  \\\n",
       "count  267771.000000  267771.000000  267771.000000  267771.000000   \n",
       "mean   149003.000000       0.237696       0.409734       0.352570   \n",
       "std     77298.973803       0.287829       0.262544       0.341515   \n",
       "min     15118.000000       0.000592       0.004486       0.001654   \n",
       "25%     82060.500000       0.012058       0.177404       0.055313   \n",
       "50%    149003.000000       0.083787       0.398037       0.194008   \n",
       "75%    215945.500000       0.420147       0.614765       0.669903   \n",
       "max    282888.000000       0.984475       0.952225       0.993837   \n",
       "\n",
       "           Sentiment           Open           High            Low  \\\n",
       "count  267771.000000  267771.000000  267771.000000  267771.000000   \n",
       "mean        0.107857     250.240188     253.843956     247.809729   \n",
       "std         0.748104      12.205114      13.031912      12.065062   \n",
       "min        -1.000000     223.000000     225.759995     219.350006   \n",
       "25%         0.000000     241.570007     245.169998     238.710007   \n",
       "50%         0.000000     249.960007     252.820007     247.339996   \n",
       "75%         1.000000     258.820007     262.589996     256.000000   \n",
       "max         1.000000     278.260010     283.329987     276.320007   \n",
       "\n",
       "               Close      Adj Close        Volume  next_adj_close  \\\n",
       "count  267771.000000  267771.000000  2.677710e+05   267771.000000   \n",
       "mean      251.131009     250.728166  3.276263e+07      251.422878   \n",
       "std        12.844760      12.945357  1.186530e+07       13.823685   \n",
       "min       222.309998     221.754562  1.668860e+07      221.754562   \n",
       "25%       240.610001     240.008850  2.574000e+07      240.407837   \n",
       "50%       251.110001     251.110001  2.921910e+07      251.509995   \n",
       "75%       258.059998     257.704529  3.704790e+07      260.790009   \n",
       "max       279.429993     279.429993  8.610200e+07      279.429993   \n",
       "\n",
       "              target  \n",
       "count  267771.000000  \n",
       "mean        0.487978  \n",
       "std         3.956326  \n",
       "min       -10.838623  \n",
       "25%        -2.149994  \n",
       "50%         0.106827  \n",
       "75%         3.002105  \n",
       "max        10.990021  "
      ]
     },
     "execution_count": 10,
     "metadata": {},
     "output_type": "execute_result"
    }
   ],
   "source": [
    "df.describe()"
   ]
  },
  {
   "cell_type": "code",
   "execution_count": 11,
   "id": "869e7f9d",
   "metadata": {},
   "outputs": [
    {
     "data": {
      "text/plain": [
       "62047"
      ]
     },
     "execution_count": 11,
     "metadata": {},
     "output_type": "execute_result"
    }
   ],
   "source": [
    "# negative sentiment\n",
    "sum(df['Sentiment'] == -1)"
   ]
  },
  {
   "cell_type": "code",
   "execution_count": 12,
   "id": "aa3a9791",
   "metadata": {},
   "outputs": [
    {
     "data": {
      "text/plain": [
       "114796"
      ]
     },
     "execution_count": 12,
     "metadata": {},
     "output_type": "execute_result"
    }
   ],
   "source": [
    "# neutral sentiment\n",
    "sum(df['Sentiment'] == 0)"
   ]
  },
  {
   "cell_type": "code",
   "execution_count": 13,
   "id": "0dd000e1",
   "metadata": {},
   "outputs": [
    {
     "data": {
      "text/plain": [
       "90928"
      ]
     },
     "execution_count": 13,
     "metadata": {},
     "output_type": "execute_result"
    }
   ],
   "source": [
    "# positive sentiment\n",
    "sum(df['Sentiment'] == 1)"
   ]
  },
  {
   "cell_type": "code",
   "execution_count": 14,
   "id": "330c33bd",
   "metadata": {},
   "outputs": [
    {
     "data": {
      "text/html": [
       "<div>\n",
       "<style scoped>\n",
       "    .dataframe tbody tr th:only-of-type {\n",
       "        vertical-align: middle;\n",
       "    }\n",
       "\n",
       "    .dataframe tbody tr th {\n",
       "        vertical-align: top;\n",
       "    }\n",
       "\n",
       "    .dataframe thead th {\n",
       "        text-align: right;\n",
       "    }\n",
       "</style>\n",
       "<table border=\"1\" class=\"dataframe\">\n",
       "  <thead>\n",
       "    <tr style=\"text-align: right;\">\n",
       "      <th></th>\n",
       "      <th>index</th>\n",
       "      <th>Date</th>\n",
       "      <th>Tweet</th>\n",
       "      <th>Clean_Tweet</th>\n",
       "      <th>Negative</th>\n",
       "      <th>Neutral</th>\n",
       "      <th>Positive</th>\n",
       "      <th>Sentiment</th>\n",
       "      <th>tweet_date</th>\n",
       "      <th>cross_join_key</th>\n",
       "      <th>Open</th>\n",
       "      <th>High</th>\n",
       "      <th>Low</th>\n",
       "      <th>Close</th>\n",
       "      <th>Adj Close</th>\n",
       "      <th>Volume</th>\n",
       "      <th>stock_date</th>\n",
       "      <th>next_adj_close</th>\n",
       "      <th>target</th>\n",
       "    </tr>\n",
       "  </thead>\n",
       "  <tbody>\n",
       "    <tr>\n",
       "      <th>15118</th>\n",
       "      <td>15118</td>\n",
       "      <td>2023-03-16 23:59:35+00:00</td>\n",
       "      <td>ChatGPT reminds me of Derrida’s wisdom about d...</td>\n",
       "      <td>ChatGPT reminds me of Derrida’s wisdom about d...</td>\n",
       "      <td>0.255540</td>\n",
       "      <td>0.647598</td>\n",
       "      <td>0.096862</td>\n",
       "      <td>0</td>\n",
       "      <td>2023-03-16</td>\n",
       "      <td>dummy</td>\n",
       "      <td>278.26001</td>\n",
       "      <td>283.329987</td>\n",
       "      <td>276.320007</td>\n",
       "      <td>279.429993</td>\n",
       "      <td>279.429993</td>\n",
       "      <td>69527400</td>\n",
       "      <td>2023-03-17</td>\n",
       "      <td>272.230011</td>\n",
       "      <td>1.169983</td>\n",
       "    </tr>\n",
       "    <tr>\n",
       "      <th>15119</th>\n",
       "      <td>15119</td>\n",
       "      <td>2023-03-16 23:59:26+00:00</td>\n",
       "      <td>Chat gpt te amo</td>\n",
       "      <td>Chat gpt te amo</td>\n",
       "      <td>0.075271</td>\n",
       "      <td>0.815558</td>\n",
       "      <td>0.109171</td>\n",
       "      <td>0</td>\n",
       "      <td>2023-03-16</td>\n",
       "      <td>dummy</td>\n",
       "      <td>278.26001</td>\n",
       "      <td>283.329987</td>\n",
       "      <td>276.320007</td>\n",
       "      <td>279.429993</td>\n",
       "      <td>279.429993</td>\n",
       "      <td>69527400</td>\n",
       "      <td>2023-03-17</td>\n",
       "      <td>272.230011</td>\n",
       "      <td>1.169983</td>\n",
       "    </tr>\n",
       "  </tbody>\n",
       "</table>\n",
       "</div>"
      ],
      "text/plain": [
       "       index                       Date  \\\n",
       "15118  15118  2023-03-16 23:59:35+00:00   \n",
       "15119  15119  2023-03-16 23:59:26+00:00   \n",
       "\n",
       "                                                   Tweet  \\\n",
       "15118  ChatGPT reminds me of Derrida’s wisdom about d...   \n",
       "15119                                    Chat gpt te amo   \n",
       "\n",
       "                                             Clean_Tweet  Negative   Neutral  \\\n",
       "15118  ChatGPT reminds me of Derrida’s wisdom about d...  0.255540  0.647598   \n",
       "15119                                    Chat gpt te amo  0.075271  0.815558   \n",
       "\n",
       "       Positive  Sentiment  tweet_date cross_join_key       Open        High  \\\n",
       "15118  0.096862          0  2023-03-16          dummy  278.26001  283.329987   \n",
       "15119  0.109171          0  2023-03-16          dummy  278.26001  283.329987   \n",
       "\n",
       "              Low       Close   Adj Close    Volume  stock_date  \\\n",
       "15118  276.320007  279.429993  279.429993  69527400  2023-03-17   \n",
       "15119  276.320007  279.429993  279.429993  69527400  2023-03-17   \n",
       "\n",
       "       next_adj_close    target  \n",
       "15118      272.230011  1.169983  \n",
       "15119      272.230011  1.169983  "
      ]
     },
     "execution_count": 14,
     "metadata": {},
     "output_type": "execute_result"
    }
   ],
   "source": [
    "df.head(2)"
   ]
  },
  {
   "cell_type": "markdown",
   "id": "387f95c9",
   "metadata": {},
   "source": [
    "# Plot"
   ]
  },
  {
   "cell_type": "code",
   "execution_count": 15,
   "id": "782d2212",
   "metadata": {},
   "outputs": [],
   "source": [
    "import matplotlib.pyplot as plt\n",
    "import seaborn as sns"
   ]
  },
  {
   "cell_type": "code",
   "execution_count": 16,
   "id": "3ef2f5d8",
   "metadata": {},
   "outputs": [
    {
     "data": {
      "text/plain": [
       "15118    2023-03-17\n",
       "15119    2023-03-17\n",
       "15120    2023-03-17\n",
       "15121    2023-03-17\n",
       "15122    2023-03-17\n",
       "            ...    \n",
       "282884   2022-12-06\n",
       "282885   2022-12-06\n",
       "282886   2022-12-06\n",
       "282887   2022-12-06\n",
       "282888   2022-12-06\n",
       "Name: stock_date, Length: 267771, dtype: datetime64[ns]"
      ]
     },
     "execution_count": 16,
     "metadata": {},
     "output_type": "execute_result"
    }
   ],
   "source": [
    "# convert date from object datatype to datetime \n",
    "df['stock_date'] = pd.to_datetime(df['stock_date'])\n",
    "df['stock_date']"
   ]
  },
  {
   "cell_type": "code",
   "execution_count": 17,
   "id": "2f11fa3c",
   "metadata": {
    "scrolled": true
   },
   "outputs": [
    {
     "data": {
      "text/plain": [
       "<AxesSubplot:xlabel='stock_date', ylabel='Adj Close'>"
      ]
     },
     "execution_count": 17,
     "metadata": {},
     "output_type": "execute_result"
    },
    {
     "data": {
      "image/png": "[encoded data removed]",
      "text/plain": [
       "<Figure size 1000x600 with 1 Axes>"
      ]
     },
     "metadata": {},
     "output_type": "display_data"
    }
   ],
   "source": [
    "plt.figure(figsize=(10, 6))\n",
    "sns.lineplot(data=df, x=\"stock_date\", y=\"Adj Close\", marker = \"o\")"
   ]
  },
  {
   "cell_type": "code",
   "execution_count": null,
   "id": "a506708f",
   "metadata": {},
   "outputs": [],
   "source": [
    "\n"
   ]
  },
  {
   "cell_type": "code",
   "execution_count": 18,
   "id": "87cde6ae",
   "metadata": {},
   "outputs": [
    {
     "data": {
      "text/plain": [
       "<AxesSubplot:xlabel='Sentiment', ylabel='count'>"
      ]
     },
     "execution_count": 18,
     "metadata": {},
     "output_type": "execute_result"
    },
    {
     "data": {
      "image/png": "[encoded data removed]",
      "text/plain": [
       "<Figure size 640x480 with 1 Axes>"
      ]
     },
     "metadata": {},
     "output_type": "display_data"
    }
   ],
   "source": [
    "sns.countplot(x='Sentiment', data=df)"
   ]
  },
  {
   "cell_type": "code",
   "execution_count": 19,
   "id": "d7dad135",
   "metadata": {
    "scrolled": false
   },
   "outputs": [
    {
     "data": {
      "text/plain": [
       "<AxesSubplot:xlabel='Sentiment', ylabel='Adj Close'>"
      ]
     },
     "execution_count": 19,
     "metadata": {},
     "output_type": "execute_result"
    },
    {
     "data": {
      "image/png": "[encoded data removed]",
      "text/plain": [
       "<Figure size 640x480 with 1 Axes>"
      ]
     },
     "metadata": {},
     "output_type": "display_data"
    }
   ],
   "source": [
    "sns.boxplot(x='Sentiment', y='Adj Close', data = df)\n",
    "\n",
    "# distributions of the adj close price per sentiment"
   ]
  },
  {
   "cell_type": "code",
   "execution_count": null,
   "id": "dd00a349",
   "metadata": {},
   "outputs": [],
   "source": []
  },
  {
   "cell_type": "code",
   "execution_count": null,
   "id": "4077a5ce",
   "metadata": {},
   "outputs": [],
   "source": []
  },
  {
   "cell_type": "code",
   "execution_count": 20,
   "id": "56213d77",
   "metadata": {},
   "outputs": [
    {
     "data": {
      "text/html": [
       "<div>\n",
       "<style scoped>\n",
       "    .dataframe tbody tr th:only-of-type {\n",
       "        vertical-align: middle;\n",
       "    }\n",
       "\n",
       "    .dataframe tbody tr th {\n",
       "        vertical-align: top;\n",
       "    }\n",
       "\n",
       "    .dataframe thead th {\n",
       "        text-align: right;\n",
       "    }\n",
       "</style>\n",
       "<table border=\"1\" class=\"dataframe\">\n",
       "  <thead>\n",
       "    <tr style=\"text-align: right;\">\n",
       "      <th></th>\n",
       "      <th>index</th>\n",
       "      <th>Date</th>\n",
       "      <th>Tweet</th>\n",
       "      <th>Clean_Tweet</th>\n",
       "      <th>Negative</th>\n",
       "      <th>Neutral</th>\n",
       "      <th>Positive</th>\n",
       "      <th>Sentiment</th>\n",
       "      <th>tweet_date</th>\n",
       "      <th>cross_join_key</th>\n",
       "      <th>Open</th>\n",
       "      <th>High</th>\n",
       "      <th>Low</th>\n",
       "      <th>Close</th>\n",
       "      <th>Adj Close</th>\n",
       "      <th>Volume</th>\n",
       "      <th>stock_date</th>\n",
       "      <th>next_adj_close</th>\n",
       "      <th>target</th>\n",
       "    </tr>\n",
       "  </thead>\n",
       "  <tbody>\n",
       "    <tr>\n",
       "      <th>15118</th>\n",
       "      <td>15118</td>\n",
       "      <td>2023-03-16 23:59:35+00:00</td>\n",
       "      <td>ChatGPT reminds me of Derrida’s wisdom about d...</td>\n",
       "      <td>ChatGPT reminds me of Derrida’s wisdom about d...</td>\n",
       "      <td>0.255540</td>\n",
       "      <td>0.647598</td>\n",
       "      <td>0.096862</td>\n",
       "      <td>0</td>\n",
       "      <td>2023-03-16</td>\n",
       "      <td>dummy</td>\n",
       "      <td>278.26001</td>\n",
       "      <td>283.329987</td>\n",
       "      <td>276.320007</td>\n",
       "      <td>279.429993</td>\n",
       "      <td>279.429993</td>\n",
       "      <td>69527400</td>\n",
       "      <td>2023-03-17</td>\n",
       "      <td>272.230011</td>\n",
       "      <td>1.169983</td>\n",
       "    </tr>\n",
       "    <tr>\n",
       "      <th>15119</th>\n",
       "      <td>15119</td>\n",
       "      <td>2023-03-16 23:59:26+00:00</td>\n",
       "      <td>Chat gpt te amo</td>\n",
       "      <td>Chat gpt te amo</td>\n",
       "      <td>0.075271</td>\n",
       "      <td>0.815558</td>\n",
       "      <td>0.109171</td>\n",
       "      <td>0</td>\n",
       "      <td>2023-03-16</td>\n",
       "      <td>dummy</td>\n",
       "      <td>278.26001</td>\n",
       "      <td>283.329987</td>\n",
       "      <td>276.320007</td>\n",
       "      <td>279.429993</td>\n",
       "      <td>279.429993</td>\n",
       "      <td>69527400</td>\n",
       "      <td>2023-03-17</td>\n",
       "      <td>272.230011</td>\n",
       "      <td>1.169983</td>\n",
       "    </tr>\n",
       "  </tbody>\n",
       "</table>\n",
       "</div>"
      ],
      "text/plain": [
       "       index                       Date  \\\n",
       "15118  15118  2023-03-16 23:59:35+00:00   \n",
       "15119  15119  2023-03-16 23:59:26+00:00   \n",
       "\n",
       "                                                   Tweet  \\\n",
       "15118  ChatGPT reminds me of Derrida’s wisdom about d...   \n",
       "15119                                    Chat gpt te amo   \n",
       "\n",
       "                                             Clean_Tweet  Negative   Neutral  \\\n",
       "15118  ChatGPT reminds me of Derrida’s wisdom about d...  0.255540  0.647598   \n",
       "15119                                    Chat gpt te amo  0.075271  0.815558   \n",
       "\n",
       "       Positive  Sentiment  tweet_date cross_join_key       Open        High  \\\n",
       "15118  0.096862          0  2023-03-16          dummy  278.26001  283.329987   \n",
       "15119  0.109171          0  2023-03-16          dummy  278.26001  283.329987   \n",
       "\n",
       "              Low       Close   Adj Close    Volume stock_date  \\\n",
       "15118  276.320007  279.429993  279.429993  69527400 2023-03-17   \n",
       "15119  276.320007  279.429993  279.429993  69527400 2023-03-17   \n",
       "\n",
       "       next_adj_close    target  \n",
       "15118      272.230011  1.169983  \n",
       "15119      272.230011  1.169983  "
      ]
     },
     "execution_count": 20,
     "metadata": {},
     "output_type": "execute_result"
    }
   ],
   "source": [
    "df.head(2)"
   ]
  },
  {
   "cell_type": "markdown",
   "id": "4c44706f",
   "metadata": {},
   "source": [
    "# Drop some features"
   ]
  },
  {
   "cell_type": "code",
   "execution_count": 21,
   "id": "8b58bff6",
   "metadata": {
    "scrolled": true
   },
   "outputs": [],
   "source": [
    "# DROP SOME FEATURES\n",
    "df = pd.DataFrame(df.drop(['Tweet', 'Date', 'Clean_Tweet', 'cross_join_key', 'index', \n",
    "                           'tweet_date', 'Open', 'High', 'Low', 'Close', 'Sentiment', 'Volume', 'target'], axis=1))"
   ]
  },
  {
   "cell_type": "code",
   "execution_count": 22,
   "id": "4c86f572",
   "metadata": {},
   "outputs": [
    {
     "data": {
      "text/html": [
       "<div>\n",
       "<style scoped>\n",
       "    .dataframe tbody tr th:only-of-type {\n",
       "        vertical-align: middle;\n",
       "    }\n",
       "\n",
       "    .dataframe tbody tr th {\n",
       "        vertical-align: top;\n",
       "    }\n",
       "\n",
       "    .dataframe thead th {\n",
       "        text-align: right;\n",
       "    }\n",
       "</style>\n",
       "<table border=\"1\" class=\"dataframe\">\n",
       "  <thead>\n",
       "    <tr style=\"text-align: right;\">\n",
       "      <th></th>\n",
       "      <th>Negative</th>\n",
       "      <th>Neutral</th>\n",
       "      <th>Positive</th>\n",
       "      <th>Adj Close</th>\n",
       "      <th>stock_date</th>\n",
       "      <th>next_adj_close</th>\n",
       "    </tr>\n",
       "  </thead>\n",
       "  <tbody>\n",
       "    <tr>\n",
       "      <th>15118</th>\n",
       "      <td>0.255540</td>\n",
       "      <td>0.647598</td>\n",
       "      <td>0.096862</td>\n",
       "      <td>279.429993</td>\n",
       "      <td>2023-03-17</td>\n",
       "      <td>272.230011</td>\n",
       "    </tr>\n",
       "    <tr>\n",
       "      <th>15119</th>\n",
       "      <td>0.075271</td>\n",
       "      <td>0.815558</td>\n",
       "      <td>0.109171</td>\n",
       "      <td>279.429993</td>\n",
       "      <td>2023-03-17</td>\n",
       "      <td>272.230011</td>\n",
       "    </tr>\n",
       "    <tr>\n",
       "      <th>15120</th>\n",
       "      <td>0.013485</td>\n",
       "      <td>0.643488</td>\n",
       "      <td>0.343027</td>\n",
       "      <td>279.429993</td>\n",
       "      <td>2023-03-17</td>\n",
       "      <td>272.230011</td>\n",
       "    </tr>\n",
       "    <tr>\n",
       "      <th>15121</th>\n",
       "      <td>0.032683</td>\n",
       "      <td>0.259290</td>\n",
       "      <td>0.708027</td>\n",
       "      <td>279.429993</td>\n",
       "      <td>2023-03-17</td>\n",
       "      <td>272.230011</td>\n",
       "    </tr>\n",
       "    <tr>\n",
       "      <th>15122</th>\n",
       "      <td>0.433055</td>\n",
       "      <td>0.413978</td>\n",
       "      <td>0.152966</td>\n",
       "      <td>279.429993</td>\n",
       "      <td>2023-03-17</td>\n",
       "      <td>272.230011</td>\n",
       "    </tr>\n",
       "  </tbody>\n",
       "</table>\n",
       "</div>"
      ],
      "text/plain": [
       "       Negative   Neutral  Positive   Adj Close stock_date  next_adj_close\n",
       "15118  0.255540  0.647598  0.096862  279.429993 2023-03-17      272.230011\n",
       "15119  0.075271  0.815558  0.109171  279.429993 2023-03-17      272.230011\n",
       "15120  0.013485  0.643488  0.343027  279.429993 2023-03-17      272.230011\n",
       "15121  0.032683  0.259290  0.708027  279.429993 2023-03-17      272.230011\n",
       "15122  0.433055  0.413978  0.152966  279.429993 2023-03-17      272.230011"
      ]
     },
     "execution_count": 22,
     "metadata": {},
     "output_type": "execute_result"
    }
   ],
   "source": [
    "df.head()\n",
    "# TODO drop volumn column, target"
   ]
  },
  {
   "cell_type": "markdown",
   "id": "0dd2e164",
   "metadata": {},
   "source": [
    "# Split data - features & target"
   ]
  },
  {
   "cell_type": "code",
   "execution_count": 23,
   "id": "901bf7d3",
   "metadata": {},
   "outputs": [
    {
     "data": {
      "text/html": [
       "<div>\n",
       "<style scoped>\n",
       "    .dataframe tbody tr th:only-of-type {\n",
       "        vertical-align: middle;\n",
       "    }\n",
       "\n",
       "    .dataframe tbody tr th {\n",
       "        vertical-align: top;\n",
       "    }\n",
       "\n",
       "    .dataframe thead th {\n",
       "        text-align: right;\n",
       "    }\n",
       "</style>\n",
       "<table border=\"1\" class=\"dataframe\">\n",
       "  <thead>\n",
       "    <tr style=\"text-align: right;\">\n",
       "      <th></th>\n",
       "      <th>Negative</th>\n",
       "      <th>Neutral</th>\n",
       "      <th>Positive</th>\n",
       "      <th>Adj Close</th>\n",
       "      <th>stock_date</th>\n",
       "      <th>next_adj_close</th>\n",
       "    </tr>\n",
       "  </thead>\n",
       "  <tbody>\n",
       "    <tr>\n",
       "      <th>15118</th>\n",
       "      <td>0.255540</td>\n",
       "      <td>0.647598</td>\n",
       "      <td>0.096862</td>\n",
       "      <td>279.429993</td>\n",
       "      <td>2023-03-17</td>\n",
       "      <td>272.230011</td>\n",
       "    </tr>\n",
       "    <tr>\n",
       "      <th>15119</th>\n",
       "      <td>0.075271</td>\n",
       "      <td>0.815558</td>\n",
       "      <td>0.109171</td>\n",
       "      <td>279.429993</td>\n",
       "      <td>2023-03-17</td>\n",
       "      <td>272.230011</td>\n",
       "    </tr>\n",
       "    <tr>\n",
       "      <th>15120</th>\n",
       "      <td>0.013485</td>\n",
       "      <td>0.643488</td>\n",
       "      <td>0.343027</td>\n",
       "      <td>279.429993</td>\n",
       "      <td>2023-03-17</td>\n",
       "      <td>272.230011</td>\n",
       "    </tr>\n",
       "    <tr>\n",
       "      <th>15121</th>\n",
       "      <td>0.032683</td>\n",
       "      <td>0.259290</td>\n",
       "      <td>0.708027</td>\n",
       "      <td>279.429993</td>\n",
       "      <td>2023-03-17</td>\n",
       "      <td>272.230011</td>\n",
       "    </tr>\n",
       "    <tr>\n",
       "      <th>15122</th>\n",
       "      <td>0.433055</td>\n",
       "      <td>0.413978</td>\n",
       "      <td>0.152966</td>\n",
       "      <td>279.429993</td>\n",
       "      <td>2023-03-17</td>\n",
       "      <td>272.230011</td>\n",
       "    </tr>\n",
       "    <tr>\n",
       "      <th>...</th>\n",
       "      <td>...</td>\n",
       "      <td>...</td>\n",
       "      <td>...</td>\n",
       "      <td>...</td>\n",
       "      <td>...</td>\n",
       "      <td>...</td>\n",
       "    </tr>\n",
       "    <tr>\n",
       "      <th>282884</th>\n",
       "      <td>0.006317</td>\n",
       "      <td>0.242914</td>\n",
       "      <td>0.750770</td>\n",
       "      <td>244.507568</td>\n",
       "      <td>2022-12-06</td>\n",
       "      <td>243.759445</td>\n",
       "    </tr>\n",
       "    <tr>\n",
       "      <th>282885</th>\n",
       "      <td>0.621412</td>\n",
       "      <td>0.335785</td>\n",
       "      <td>0.042804</td>\n",
       "      <td>244.507568</td>\n",
       "      <td>2022-12-06</td>\n",
       "      <td>243.759445</td>\n",
       "    </tr>\n",
       "    <tr>\n",
       "      <th>282886</th>\n",
       "      <td>0.002545</td>\n",
       "      <td>0.085286</td>\n",
       "      <td>0.912170</td>\n",
       "      <td>244.507568</td>\n",
       "      <td>2022-12-06</td>\n",
       "      <td>243.759445</td>\n",
       "    </tr>\n",
       "    <tr>\n",
       "      <th>282887</th>\n",
       "      <td>0.478707</td>\n",
       "      <td>0.505734</td>\n",
       "      <td>0.015560</td>\n",
       "      <td>244.507568</td>\n",
       "      <td>2022-12-06</td>\n",
       "      <td>243.759445</td>\n",
       "    </tr>\n",
       "    <tr>\n",
       "      <th>282888</th>\n",
       "      <td>0.096461</td>\n",
       "      <td>0.401893</td>\n",
       "      <td>0.501646</td>\n",
       "      <td>244.507568</td>\n",
       "      <td>2022-12-06</td>\n",
       "      <td>243.759445</td>\n",
       "    </tr>\n",
       "  </tbody>\n",
       "</table>\n",
       "<p>267771 rows × 6 columns</p>\n",
       "</div>"
      ],
      "text/plain": [
       "        Negative   Neutral  Positive   Adj Close stock_date  next_adj_close\n",
       "15118   0.255540  0.647598  0.096862  279.429993 2023-03-17      272.230011\n",
       "15119   0.075271  0.815558  0.109171  279.429993 2023-03-17      272.230011\n",
       "15120   0.013485  0.643488  0.343027  279.429993 2023-03-17      272.230011\n",
       "15121   0.032683  0.259290  0.708027  279.429993 2023-03-17      272.230011\n",
       "15122   0.433055  0.413978  0.152966  279.429993 2023-03-17      272.230011\n",
       "...          ...       ...       ...         ...        ...             ...\n",
       "282884  0.006317  0.242914  0.750770  244.507568 2022-12-06      243.759445\n",
       "282885  0.621412  0.335785  0.042804  244.507568 2022-12-06      243.759445\n",
       "282886  0.002545  0.085286  0.912170  244.507568 2022-12-06      243.759445\n",
       "282887  0.478707  0.505734  0.015560  244.507568 2022-12-06      243.759445\n",
       "282888  0.096461  0.401893  0.501646  244.507568 2022-12-06      243.759445\n",
       "\n",
       "[267771 rows x 6 columns]"
      ]
     },
     "execution_count": 23,
     "metadata": {},
     "output_type": "execute_result"
    }
   ],
   "source": [
    "df"
   ]
  },
  {
   "cell_type": "code",
   "execution_count": 24,
   "id": "38a77967",
   "metadata": {},
   "outputs": [],
   "source": [
    "# Split data into features and target\n",
    "features = df.iloc[:, :-1].values\n",
    "target = df.iloc[:, -1].values"
   ]
  },
  {
   "cell_type": "code",
   "execution_count": 25,
   "id": "3d63dc49",
   "metadata": {},
   "outputs": [
    {
     "data": {
      "text/plain": [
       "array([[0.25553963, 0.64759815, 0.09686227, 279.429993,\n",
       "        Timestamp('2023-03-17 00:00:00')],\n",
       "       [0.07527146, 0.81555754, 0.10917097, 279.429993,\n",
       "        Timestamp('2023-03-17 00:00:00')],\n",
       "       [0.013485206, 0.64348805, 0.34302673, 279.429993,\n",
       "        Timestamp('2023-03-17 00:00:00')],\n",
       "       ...,\n",
       "       [0.002544926, 0.085285515, 0.9121696, 244.507568,\n",
       "        Timestamp('2022-12-06 00:00:00')],\n",
       "       [0.47870654, 0.5057338, 0.015559682, 244.507568,\n",
       "        Timestamp('2022-12-06 00:00:00')],\n",
       "       [0.09646065, 0.40189296, 0.5016464, 244.507568,\n",
       "        Timestamp('2022-12-06 00:00:00')]], dtype=object)"
      ]
     },
     "execution_count": 25,
     "metadata": {},
     "output_type": "execute_result"
    }
   ],
   "source": [
    "features"
   ]
  },
  {
   "cell_type": "code",
   "execution_count": 26,
   "id": "f5141092",
   "metadata": {},
   "outputs": [
    {
     "data": {
      "text/plain": [
       "array([272.230011, 272.230011, 272.230011, ..., 243.759445, 243.759445,\n",
       "       243.759445])"
      ]
     },
     "execution_count": 26,
     "metadata": {},
     "output_type": "execute_result"
    }
   ],
   "source": [
    "target"
   ]
  },
  {
   "cell_type": "markdown",
   "id": "2f8fdc2c",
   "metadata": {},
   "source": [
    "\n",
    "# Split data - Train, Test and Validation sets"
   ]
  },
  {
   "cell_type": "code",
   "execution_count": 27,
   "id": "b504de2b",
   "metadata": {},
   "outputs": [],
   "source": [
    "from sklearn.model_selection import StratifiedShuffleSplit\n",
    "\n",
    "ss = StratifiedShuffleSplit(n_splits = 1, test_size = 0.4)\n",
    "for train_index, else_index in ss.split(features, target):\n",
    "    train_x, else_x = features[train_index], features[else_index]\n",
    "    train_y, else_y = target[train_index], target[else_index]"
   ]
  },
  {
   "cell_type": "code",
   "execution_count": 28,
   "id": "740c3d07",
   "metadata": {},
   "outputs": [],
   "source": [
    "ss = StratifiedShuffleSplit(n_splits = 1, test_size = 0.5)\n",
    "for test_index, valid_index in ss.split(else_x, else_y):\n",
    "    test_x, valid_x = else_x[test_index], else_x[valid_index]\n",
    "    test_y, valid_y = else_y[test_index], else_y[valid_index]"
   ]
  },
  {
   "cell_type": "code",
   "execution_count": 29,
   "id": "0d0a08da",
   "metadata": {},
   "outputs": [
    {
     "data": {
      "text/plain": [
       "(160662, 5)"
      ]
     },
     "execution_count": 29,
     "metadata": {},
     "output_type": "execute_result"
    }
   ],
   "source": [
    "train_x.shape"
   ]
  },
  {
   "cell_type": "code",
   "execution_count": 30,
   "id": "f84b8b73",
   "metadata": {},
   "outputs": [
    {
     "data": {
      "text/plain": [
       "(160662,)"
      ]
     },
     "execution_count": 30,
     "metadata": {},
     "output_type": "execute_result"
    }
   ],
   "source": [
    "train_y.shape"
   ]
  },
  {
   "cell_type": "code",
   "execution_count": 31,
   "id": "7e887661",
   "metadata": {},
   "outputs": [
    {
     "data": {
      "text/plain": [
       "(53554, 5)"
      ]
     },
     "execution_count": 31,
     "metadata": {},
     "output_type": "execute_result"
    }
   ],
   "source": [
    "test_x.shape"
   ]
  },
  {
   "cell_type": "code",
   "execution_count": 32,
   "id": "60d27210",
   "metadata": {},
   "outputs": [
    {
     "data": {
      "text/plain": [
       "(53554,)"
      ]
     },
     "execution_count": 32,
     "metadata": {},
     "output_type": "execute_result"
    }
   ],
   "source": [
    "test_y.shape"
   ]
  },
  {
   "cell_type": "code",
   "execution_count": null,
   "id": "eb0c8f18",
   "metadata": {},
   "outputs": [],
   "source": []
  },
  {
   "cell_type": "code",
   "execution_count": 33,
   "id": "d84a890e",
   "metadata": {},
   "outputs": [
    {
     "data": {
      "text/plain": [
       "(53555, 5)"
      ]
     },
     "execution_count": 33,
     "metadata": {},
     "output_type": "execute_result"
    }
   ],
   "source": [
    "valid_x.shape"
   ]
  },
  {
   "cell_type": "code",
   "execution_count": 34,
   "id": "1b08c515",
   "metadata": {},
   "outputs": [
    {
     "data": {
      "text/plain": [
       "(53555,)"
      ]
     },
     "execution_count": 34,
     "metadata": {},
     "output_type": "execute_result"
    }
   ],
   "source": [
    "valid_y.shape"
   ]
  },
  {
   "cell_type": "markdown",
   "id": "1c9505d2",
   "metadata": {},
   "source": [
    "### get stock date "
   ]
  },
  {
   "cell_type": "code",
   "execution_count": 35,
   "id": "c90b114d",
   "metadata": {},
   "outputs": [
    {
     "data": {
      "text/html": [
       "<div>\n",
       "<style scoped>\n",
       "    .dataframe tbody tr th:only-of-type {\n",
       "        vertical-align: middle;\n",
       "    }\n",
       "\n",
       "    .dataframe tbody tr th {\n",
       "        vertical-align: top;\n",
       "    }\n",
       "\n",
       "    .dataframe thead th {\n",
       "        text-align: right;\n",
       "    }\n",
       "</style>\n",
       "<table border=\"1\" class=\"dataframe\">\n",
       "  <thead>\n",
       "    <tr style=\"text-align: right;\">\n",
       "      <th></th>\n",
       "      <th>0</th>\n",
       "      <th>1</th>\n",
       "      <th>2</th>\n",
       "      <th>3</th>\n",
       "      <th>4</th>\n",
       "    </tr>\n",
       "  </thead>\n",
       "  <tbody>\n",
       "    <tr>\n",
       "      <th>0</th>\n",
       "      <td>0.054614</td>\n",
       "      <td>0.884141</td>\n",
       "      <td>0.061245</td>\n",
       "      <td>266.89151</td>\n",
       "      <td>2023-02-07</td>\n",
       "    </tr>\n",
       "    <tr>\n",
       "      <th>1</th>\n",
       "      <td>0.063807</td>\n",
       "      <td>0.576348</td>\n",
       "      <td>0.359845</td>\n",
       "      <td>266.063599</td>\n",
       "      <td>2023-02-08</td>\n",
       "    </tr>\n",
       "    <tr>\n",
       "      <th>2</th>\n",
       "      <td>0.083051</td>\n",
       "      <td>0.883542</td>\n",
       "      <td>0.033407</td>\n",
       "      <td>251.879105</td>\n",
       "      <td>2022-12-12</td>\n",
       "    </tr>\n",
       "    <tr>\n",
       "      <th>3</th>\n",
       "      <td>0.018988</td>\n",
       "      <td>0.80176</td>\n",
       "      <td>0.179252</td>\n",
       "      <td>221.754562</td>\n",
       "      <td>2023-01-05</td>\n",
       "    </tr>\n",
       "    <tr>\n",
       "      <th>4</th>\n",
       "      <td>0.076692</td>\n",
       "      <td>0.631515</td>\n",
       "      <td>0.291792</td>\n",
       "      <td>257.704529</td>\n",
       "      <td>2023-02-03</td>\n",
       "    </tr>\n",
       "    <tr>\n",
       "      <th>...</th>\n",
       "      <td>...</td>\n",
       "      <td>...</td>\n",
       "      <td>...</td>\n",
       "      <td>...</td>\n",
       "      <td>...</td>\n",
       "    </tr>\n",
       "    <tr>\n",
       "      <th>160657</th>\n",
       "      <td>0.007574</td>\n",
       "      <td>0.097925</td>\n",
       "      <td>0.894501</td>\n",
       "      <td>252.320007</td>\n",
       "      <td>2023-03-09</td>\n",
       "    </tr>\n",
       "    <tr>\n",
       "      <th>160658</th>\n",
       "      <td>0.684726</td>\n",
       "      <td>0.275732</td>\n",
       "      <td>0.039543</td>\n",
       "      <td>256.128448</td>\n",
       "      <td>2023-02-06</td>\n",
       "    </tr>\n",
       "    <tr>\n",
       "      <th>160659</th>\n",
       "      <td>0.0064</td>\n",
       "      <td>0.832777</td>\n",
       "      <td>0.160823</td>\n",
       "      <td>239.619827</td>\n",
       "      <td>2023-01-20</td>\n",
       "    </tr>\n",
       "    <tr>\n",
       "      <th>160660</th>\n",
       "      <td>0.016732</td>\n",
       "      <td>0.642406</td>\n",
       "      <td>0.340862</td>\n",
       "      <td>240.407837</td>\n",
       "      <td>2022-12-29</td>\n",
       "    </tr>\n",
       "    <tr>\n",
       "      <th>160661</th>\n",
       "      <td>0.148356</td>\n",
       "      <td>0.632428</td>\n",
       "      <td>0.219216</td>\n",
       "      <td>276.200012</td>\n",
       "      <td>2023-03-16</td>\n",
       "    </tr>\n",
       "  </tbody>\n",
       "</table>\n",
       "<p>160662 rows × 5 columns</p>\n",
       "</div>"
      ],
      "text/plain": [
       "               0         1         2           3          4\n",
       "0       0.054614  0.884141  0.061245   266.89151 2023-02-07\n",
       "1       0.063807  0.576348  0.359845  266.063599 2023-02-08\n",
       "2       0.083051  0.883542  0.033407  251.879105 2022-12-12\n",
       "3       0.018988   0.80176  0.179252  221.754562 2023-01-05\n",
       "4       0.076692  0.631515  0.291792  257.704529 2023-02-03\n",
       "...          ...       ...       ...         ...        ...\n",
       "160657  0.007574  0.097925  0.894501  252.320007 2023-03-09\n",
       "160658  0.684726  0.275732  0.039543  256.128448 2023-02-06\n",
       "160659    0.0064  0.832777  0.160823  239.619827 2023-01-20\n",
       "160660  0.016732  0.642406  0.340862  240.407837 2022-12-29\n",
       "160661  0.148356  0.632428  0.219216  276.200012 2023-03-16\n",
       "\n",
       "[160662 rows x 5 columns]"
      ]
     },
     "execution_count": 35,
     "metadata": {},
     "output_type": "execute_result"
    }
   ],
   "source": [
    "train_x_df = pd.DataFrame(train_x)\n",
    "test_x_df = pd.DataFrame(test_x)\n",
    "valid_x_df = pd.DataFrame(valid_x)\n",
    "\n",
    "train_x_df"
   ]
  },
  {
   "cell_type": "code",
   "execution_count": 36,
   "id": "b55d41e5",
   "metadata": {},
   "outputs": [
    {
     "data": {
      "text/plain": [
       "0        2023-02-07\n",
       "1        2023-02-08\n",
       "2        2022-12-12\n",
       "3        2023-01-05\n",
       "4        2023-02-03\n",
       "            ...    \n",
       "160657   2023-03-09\n",
       "160658   2023-02-06\n",
       "160659   2023-01-20\n",
       "160660   2022-12-29\n",
       "160661   2023-03-16\n",
       "Name: 4, Length: 160662, dtype: datetime64[ns]"
      ]
     },
     "execution_count": 36,
     "metadata": {},
     "output_type": "execute_result"
    }
   ],
   "source": [
    "date_train = train_x_df.iloc[:, -1]\n",
    "date_test = test_x_df.iloc[:, -1]\n",
    "date_valid = valid_x_df.iloc[:, -1]\n",
    "\n",
    "date_train"
   ]
  },
  {
   "cell_type": "code",
   "execution_count": null,
   "id": "aab2b993",
   "metadata": {},
   "outputs": [],
   "source": [
    "# remove datetime from the fetures\n",
    "train_x = train_x_df.drop(columns=train_x_df.columns[-1],  axis=1)\n",
    "test_x = test_x_df.drop(columns=test_x_df.columns[-1],  axis=1)\n",
    "valid_x = valid_x_df.drop(columns=valid_x_df.columns[-1],  axis=1)"
   ]
  },
  {
   "cell_type": "code",
   "execution_count": null,
   "id": "4b1cf1d1",
   "metadata": {},
   "outputs": [],
   "source": []
  },
  {
   "cell_type": "markdown",
   "id": "b4c3f120",
   "metadata": {},
   "source": [
    "# Standarized the Data"
   ]
  },
  {
   "cell_type": "code",
   "execution_count": 38,
   "id": "aadde8dd",
   "metadata": {},
   "outputs": [],
   "source": [
    "from sklearn.preprocessing import StandardScaler\n",
    "\n",
    "scaler = StandardScaler()\n",
    "train_x = scaler.fit_transform(train_x)\n",
    "test_x = scaler.transform(test_x)\n",
    "valid_x = scaler.transform(valid_x)"
   ]
  },
  {
   "cell_type": "code",
   "execution_count": 39,
   "id": "c5ecdbf3",
   "metadata": {},
   "outputs": [
    {
     "data": {
      "text/plain": [
       "array([-0.63598804,  1.80956527, -0.85392106,  1.2486308 ])"
      ]
     },
     "execution_count": 39,
     "metadata": {},
     "output_type": "execute_result"
    }
   ],
   "source": [
    "train_x[0]"
   ]
  },
  {
   "cell_type": "code",
   "execution_count": 40,
   "id": "12f88d14",
   "metadata": {},
   "outputs": [
    {
     "data": {
      "text/plain": [
       "array([ 1.49502781, -0.39791832, -0.95493774,  0.15004541])"
      ]
     },
     "execution_count": 40,
     "metadata": {},
     "output_type": "execute_result"
    }
   ],
   "source": [
    "test_x[0]"
   ]
  },
  {
   "cell_type": "code",
   "execution_count": 41,
   "id": "26e41bb5",
   "metadata": {},
   "outputs": [
    {
     "data": {
      "text/plain": [
       "4"
      ]
     },
     "execution_count": 41,
     "metadata": {},
     "output_type": "execute_result"
    }
   ],
   "source": [
    "len(valid_x[0])"
   ]
  },
  {
   "cell_type": "code",
   "execution_count": null,
   "id": "48f93bac-e63e-4394-91a6-014faa91da3a",
   "metadata": {},
   "outputs": [],
   "source": []
  },
  {
   "cell_type": "markdown",
   "id": "6b1f58b9",
   "metadata": {},
   "source": [
    "# NN"
   ]
  },
  {
   "cell_type": "code",
   "execution_count": 42,
   "id": "032392ba",
   "metadata": {},
   "outputs": [
    {
     "name": "stderr",
     "output_type": "stream",
     "text": [
      "C:\\Users\\Cynthia Carnero\\anaconda3\\envs\\env_deeplearning\\lib\\site-packages\\tensorflow\\python\\framework\\dtypes.py:516: FutureWarning: Passing (type, 1) or '1type' as a synonym of type is deprecated; in a future version of numpy, it will be understood as (type, (1,)) / '(1,)type'.\n",
      "  _np_qint8 = np.dtype([(\"qint8\", np.int8, 1)])\n",
      "C:\\Users\\Cynthia Carnero\\anaconda3\\envs\\env_deeplearning\\lib\\site-packages\\tensorflow\\python\\framework\\dtypes.py:517: FutureWarning: Passing (type, 1) or '1type' as a synonym of type is deprecated; in a future version of numpy, it will be understood as (type, (1,)) / '(1,)type'.\n",
      "  _np_quint8 = np.dtype([(\"quint8\", np.uint8, 1)])\n",
      "C:\\Users\\Cynthia Carnero\\anaconda3\\envs\\env_deeplearning\\lib\\site-packages\\tensorflow\\python\\framework\\dtypes.py:518: FutureWarning: Passing (type, 1) or '1type' as a synonym of type is deprecated; in a future version of numpy, it will be understood as (type, (1,)) / '(1,)type'.\n",
      "  _np_qint16 = np.dtype([(\"qint16\", np.int16, 1)])\n",
      "C:\\Users\\Cynthia Carnero\\anaconda3\\envs\\env_deeplearning\\lib\\site-packages\\tensorflow\\python\\framework\\dtypes.py:519: FutureWarning: Passing (type, 1) or '1type' as a synonym of type is deprecated; in a future version of numpy, it will be understood as (type, (1,)) / '(1,)type'.\n",
      "  _np_quint16 = np.dtype([(\"quint16\", np.uint16, 1)])\n",
      "C:\\Users\\Cynthia Carnero\\anaconda3\\envs\\env_deeplearning\\lib\\site-packages\\tensorflow\\python\\framework\\dtypes.py:520: FutureWarning: Passing (type, 1) or '1type' as a synonym of type is deprecated; in a future version of numpy, it will be understood as (type, (1,)) / '(1,)type'.\n",
      "  _np_qint32 = np.dtype([(\"qint32\", np.int32, 1)])\n",
      "C:\\Users\\Cynthia Carnero\\anaconda3\\envs\\env_deeplearning\\lib\\site-packages\\tensorflow\\python\\framework\\dtypes.py:525: FutureWarning: Passing (type, 1) or '1type' as a synonym of type is deprecated; in a future version of numpy, it will be understood as (type, (1,)) / '(1,)type'.\n",
      "  np_resource = np.dtype([(\"resource\", np.ubyte, 1)])\n",
      "C:\\Users\\Cynthia Carnero\\anaconda3\\envs\\env_deeplearning\\lib\\site-packages\\tensorboard\\compat\\tensorflow_stub\\dtypes.py:541: FutureWarning: Passing (type, 1) or '1type' as a synonym of type is deprecated; in a future version of numpy, it will be understood as (type, (1,)) / '(1,)type'.\n",
      "  _np_qint8 = np.dtype([(\"qint8\", np.int8, 1)])\n",
      "C:\\Users\\Cynthia Carnero\\anaconda3\\envs\\env_deeplearning\\lib\\site-packages\\tensorboard\\compat\\tensorflow_stub\\dtypes.py:542: FutureWarning: Passing (type, 1) or '1type' as a synonym of type is deprecated; in a future version of numpy, it will be understood as (type, (1,)) / '(1,)type'.\n",
      "  _np_quint8 = np.dtype([(\"quint8\", np.uint8, 1)])\n",
      "C:\\Users\\Cynthia Carnero\\anaconda3\\envs\\env_deeplearning\\lib\\site-packages\\tensorboard\\compat\\tensorflow_stub\\dtypes.py:543: FutureWarning: Passing (type, 1) or '1type' as a synonym of type is deprecated; in a future version of numpy, it will be understood as (type, (1,)) / '(1,)type'.\n",
      "  _np_qint16 = np.dtype([(\"qint16\", np.int16, 1)])\n",
      "C:\\Users\\Cynthia Carnero\\anaconda3\\envs\\env_deeplearning\\lib\\site-packages\\tensorboard\\compat\\tensorflow_stub\\dtypes.py:544: FutureWarning: Passing (type, 1) or '1type' as a synonym of type is deprecated; in a future version of numpy, it will be understood as (type, (1,)) / '(1,)type'.\n",
      "  _np_quint16 = np.dtype([(\"quint16\", np.uint16, 1)])\n",
      "C:\\Users\\Cynthia Carnero\\anaconda3\\envs\\env_deeplearning\\lib\\site-packages\\tensorboard\\compat\\tensorflow_stub\\dtypes.py:545: FutureWarning: Passing (type, 1) or '1type' as a synonym of type is deprecated; in a future version of numpy, it will be understood as (type, (1,)) / '(1,)type'.\n",
      "  _np_qint32 = np.dtype([(\"qint32\", np.int32, 1)])\n",
      "C:\\Users\\Cynthia Carnero\\anaconda3\\envs\\env_deeplearning\\lib\\site-packages\\tensorboard\\compat\\tensorflow_stub\\dtypes.py:550: FutureWarning: Passing (type, 1) or '1type' as a synonym of type is deprecated; in a future version of numpy, it will be understood as (type, (1,)) / '(1,)type'.\n",
      "  np_resource = np.dtype([(\"resource\", np.ubyte, 1)])\n"
     ]
    }
   ],
   "source": [
    "import numpy as np\n",
    "import tensorflow as tf\n",
    "from tensorflow.keras.models import Sequential\n",
    "from tensorflow.keras.layers import Dense, Dropout"
   ]
  },
  {
   "cell_type": "code",
   "execution_count": 43,
   "id": "f033905f",
   "metadata": {},
   "outputs": [
    {
     "data": {
      "text/plain": [
       "2.0"
      ]
     },
     "execution_count": 43,
     "metadata": {},
     "output_type": "execute_result"
    }
   ],
   "source": [
    "# Approach 1: \n",
    "#num_layers = 2 X (input size) / (3 + (output size))\n",
    "\n",
    "num_layers = 2 * len(test_x[0]) / (3 + 1)\n",
    "num_layers"
   ]
  },
  {
   "cell_type": "code",
   "execution_count": 44,
   "id": "66f4aae5",
   "metadata": {},
   "outputs": [
    {
     "name": "stdout",
     "output_type": "stream",
     "text": [
      "WARNING:tensorflow:From C:\\Users\\Cynthia Carnero\\anaconda3\\envs\\env_deeplearning\\lib\\site-packages\\tensorflow\\python\\ops\\init_ops.py:1251: calling VarianceScaling.__init__ (from tensorflow.python.ops.init_ops) with dtype is deprecated and will be removed in a future version.\n",
      "Instructions for updating:\n",
      "Call initializer instance with the dtype argument instead of passing it to the constructor\n"
     ]
    }
   ],
   "source": [
    "model = Sequential()\n",
    "\n",
    "model.add(Dense(256, activation='relu'))\n",
    "model.add(Dense(256, activation='relu'))\n",
    "model.add(Dense(256, activation='relu'))\n",
    "\n",
    "model.add(Dense(1))\n",
    "\n",
    "model.compile(loss='mse', optimizer=\"adam\")"
   ]
  },
  {
   "cell_type": "code",
   "execution_count": 45,
   "id": "ba80bd0a",
   "metadata": {},
   "outputs": [
    {
     "name": "stdout",
     "output_type": "stream",
     "text": [
      "Train on 160662 samples, validate on 53555 samples\n",
      "Epoch 1/30\n",
      "160662/160662 [==============================] - 6s 38us/sample - loss: 1837.8827 - val_loss: 26.5435\n",
      "Epoch 2/30\n",
      "160662/160662 [==============================] - 6s 37us/sample - loss: 26.0094 - val_loss: 24.5212\n",
      "Epoch 3/30\n",
      "160662/160662 [==============================] - 6s 36us/sample - loss: 25.6683 - val_loss: 24.3671\n",
      "Epoch 4/30\n",
      "160662/160662 [==============================] - 6s 36us/sample - loss: 25.9550 - val_loss: 28.8758\n",
      "Epoch 5/30\n",
      "160662/160662 [==============================] - 6s 38us/sample - loss: 26.1436 - val_loss: 26.9216\n",
      "Epoch 6/30\n",
      "160662/160662 [==============================] - 6s 37us/sample - loss: 26.3143 - val_loss: 27.1599\n",
      "Epoch 7/30\n",
      "160662/160662 [==============================] - 6s 36us/sample - loss: 25.8813 - val_loss: 25.7587\n",
      "Epoch 8/30\n",
      "160662/160662 [==============================] - 6s 36us/sample - loss: 26.0612 - val_loss: 28.3362\n",
      "Epoch 9/30\n",
      "160662/160662 [==============================] - 6s 37us/sample - loss: 25.7793 - val_loss: 24.6722\n",
      "Epoch 10/30\n",
      "160662/160662 [==============================] - 6s 36us/sample - loss: 25.8633 - val_loss: 24.7305\n",
      "Epoch 11/30\n",
      "160662/160662 [==============================] - 6s 36us/sample - loss: 25.4059 - val_loss: 23.7254\n",
      "Epoch 12/30\n",
      "160662/160662 [==============================] - 6s 35us/sample - loss: 25.4606 - val_loss: 23.7928\n",
      "Epoch 13/30\n",
      "160662/160662 [==============================] - 6s 36us/sample - loss: 25.6013 - val_loss: 25.9296\n",
      "Epoch 14/30\n",
      "160662/160662 [==============================] - 6s 38us/sample - loss: 24.8992 - val_loss: 25.5474\n",
      "Epoch 15/30\n",
      "160662/160662 [==============================] - 6s 38us/sample - loss: 24.7350 - val_loss: 29.2177\n",
      "Epoch 16/30\n",
      "160662/160662 [==============================] - 6s 39us/sample - loss: 24.2723 - val_loss: 34.9260\n",
      "Epoch 17/30\n",
      "160662/160662 [==============================] - 6s 39us/sample - loss: 23.9559 - val_loss: 26.9623\n",
      "Epoch 18/30\n",
      "160662/160662 [==============================] - 6s 38us/sample - loss: 23.8136 - val_loss: 22.5562\n",
      "Epoch 19/30\n",
      "160662/160662 [==============================] - 6s 39us/sample - loss: 23.5772 - val_loss: 22.2971\n",
      "Epoch 20/30\n",
      "160662/160662 [==============================] - 6s 38us/sample - loss: 23.5656 - val_loss: 23.6300\n",
      "Epoch 21/30\n",
      "160662/160662 [==============================] - 6s 39us/sample - loss: 23.4985 - val_loss: 27.2598\n",
      "Epoch 22/30\n",
      "160662/160662 [==============================] - 6s 38us/sample - loss: 23.5615 - val_loss: 22.2055\n",
      "Epoch 23/30\n",
      "160662/160662 [==============================] - 6s 37us/sample - loss: 23.2065 - val_loss: 30.6609\n",
      "Epoch 24/30\n",
      "160662/160662 [==============================] - 6s 38us/sample - loss: 23.0687 - val_loss: 24.3142\n",
      "Epoch 25/30\n",
      "160662/160662 [==============================] - 6s 40us/sample - loss: 22.9302 - val_loss: 22.8698\n",
      "Epoch 26/30\n",
      "160662/160662 [==============================] - 6s 37us/sample - loss: 22.8493 - val_loss: 25.0430\n",
      "Epoch 27/30\n",
      "160662/160662 [==============================] - 6s 38us/sample - loss: 22.3918 - val_loss: 25.4318\n",
      "Epoch 28/30\n",
      "160662/160662 [==============================] - 6s 36us/sample - loss: 22.7068 - val_loss: 22.0830\n",
      "Epoch 29/30\n",
      "160662/160662 [==============================] - 6s 34us/sample - loss: 22.2136 - val_loss: 24.7542\n",
      "Epoch 30/30\n",
      "160662/160662 [==============================] - 6s 35us/sample - loss: 22.3105 - val_loss: 22.6351\n"
     ]
    },
    {
     "data": {
      "text/plain": [
       "<tensorflow.python.keras.callbacks.History at 0x1fcfdcd30c8>"
      ]
     },
     "execution_count": 45,
     "metadata": {},
     "output_type": "execute_result"
    }
   ],
   "source": [
    "# validate data\n",
    "\n",
    "model.fit(x=train_x, y=train_y, validation_data=(valid_x, valid_y), batch_size=128, epochs=30)"
   ]
  },
  {
   "cell_type": "code",
   "execution_count": 46,
   "id": "76315fa0",
   "metadata": {},
   "outputs": [
    {
     "data": {
      "text/html": [
       "<div>\n",
       "<style scoped>\n",
       "    .dataframe tbody tr th:only-of-type {\n",
       "        vertical-align: middle;\n",
       "    }\n",
       "\n",
       "    .dataframe tbody tr th {\n",
       "        vertical-align: top;\n",
       "    }\n",
       "\n",
       "    .dataframe thead th {\n",
       "        text-align: right;\n",
       "    }\n",
       "</style>\n",
       "<table border=\"1\" class=\"dataframe\">\n",
       "  <thead>\n",
       "    <tr style=\"text-align: right;\">\n",
       "      <th></th>\n",
       "      <th>loss</th>\n",
       "      <th>val_loss</th>\n",
       "    </tr>\n",
       "  </thead>\n",
       "  <tbody>\n",
       "    <tr>\n",
       "      <th>0</th>\n",
       "      <td>1837.882721</td>\n",
       "      <td>26.543486</td>\n",
       "    </tr>\n",
       "    <tr>\n",
       "      <th>1</th>\n",
       "      <td>26.009402</td>\n",
       "      <td>24.521209</td>\n",
       "    </tr>\n",
       "    <tr>\n",
       "      <th>2</th>\n",
       "      <td>25.668305</td>\n",
       "      <td>24.367090</td>\n",
       "    </tr>\n",
       "    <tr>\n",
       "      <th>3</th>\n",
       "      <td>25.955037</td>\n",
       "      <td>28.875816</td>\n",
       "    </tr>\n",
       "    <tr>\n",
       "      <th>4</th>\n",
       "      <td>26.143598</td>\n",
       "      <td>26.921639</td>\n",
       "    </tr>\n",
       "  </tbody>\n",
       "</table>\n",
       "</div>"
      ],
      "text/plain": [
       "          loss   val_loss\n",
       "0  1837.882721  26.543486\n",
       "1    26.009402  24.521209\n",
       "2    25.668305  24.367090\n",
       "3    25.955037  28.875816\n",
       "4    26.143598  26.921639"
      ]
     },
     "execution_count": 46,
     "metadata": {},
     "output_type": "execute_result"
    }
   ],
   "source": [
    "loss_df = pd.DataFrame(model.history.history)\n",
    "loss_df.head()"
   ]
  },
  {
   "cell_type": "code",
   "execution_count": 47,
   "id": "5ddd748a",
   "metadata": {},
   "outputs": [
    {
     "data": {
      "text/plain": [
       "<matplotlib.legend.Legend at 0x1fcff1a91c8>"
      ]
     },
     "execution_count": 47,
     "metadata": {},
     "output_type": "execute_result"
    },
    {
     "data": {
      "image/png": "[encoded data removed]",
      "text/plain": [
       "<Figure size 640x480 with 1 Axes>"
      ]
     },
     "metadata": {},
     "output_type": "display_data"
    }
   ],
   "source": [
    "plt.plot(loss_df['loss'], label='train loss')\n",
    "plt.plot(loss_df['val_loss'], label='validation loss')\n",
    "\n",
    "plt.xlabel(\"epochs\")\n",
    "plt.ylabel(\"mse\")\n",
    "plt.legend()\n",
    "\n",
    "#interpretation\n",
    "#the model is overfitting because we have a much larger loss in \n",
    "# the validation data\n",
    "\n",
    "# solution - early stopping and/or dropout layer"
   ]
  },
  {
   "cell_type": "code",
   "execution_count": 48,
   "id": "b10ce2a6",
   "metadata": {},
   "outputs": [
    {
     "data": {
      "text/plain": [
       "22.613364296677954"
      ]
     },
     "execution_count": 48,
     "metadata": {},
     "output_type": "execute_result"
    }
   ],
   "source": [
    "# loss on the trainset\n",
    "model.evaluate(train_x, train_y, verbose = 0)"
   ]
  },
  {
   "cell_type": "code",
   "execution_count": 49,
   "id": "4c99cff1",
   "metadata": {},
   "outputs": [
    {
     "data": {
      "text/plain": [
       "22.574527397430714"
      ]
     },
     "execution_count": 49,
     "metadata": {},
     "output_type": "execute_result"
    }
   ],
   "source": [
    "# loss in the test set\n",
    "model.evaluate(test_x, test_y, verbose = 0)"
   ]
  },
  {
   "cell_type": "markdown",
   "id": "b7891df0",
   "metadata": {},
   "source": [
    "# PLOT - real value and Prediction "
   ]
  },
  {
   "cell_type": "code",
   "execution_count": 52,
   "id": "c75d7a3f",
   "metadata": {},
   "outputs": [
    {
     "data": {
      "text/html": [
       "<div>\n",
       "<style scoped>\n",
       "    .dataframe tbody tr th:only-of-type {\n",
       "        vertical-align: middle;\n",
       "    }\n",
       "\n",
       "    .dataframe tbody tr th {\n",
       "        vertical-align: top;\n",
       "    }\n",
       "\n",
       "    .dataframe thead th {\n",
       "        text-align: right;\n",
       "    }\n",
       "</style>\n",
       "<table border=\"1\" class=\"dataframe\">\n",
       "  <thead>\n",
       "    <tr style=\"text-align: right;\">\n",
       "      <th></th>\n",
       "      <th>date</th>\n",
       "      <th>real_value</th>\n",
       "      <th>prediction</th>\n",
       "    </tr>\n",
       "  </thead>\n",
       "  <tbody>\n",
       "    <tr>\n",
       "      <th>0</th>\n",
       "      <td>2023-02-21</td>\n",
       "      <td>251.509995</td>\n",
       "      <td>256.248413</td>\n",
       "    </tr>\n",
       "    <tr>\n",
       "      <th>1</th>\n",
       "      <td>2023-01-04</td>\n",
       "      <td>221.754562</td>\n",
       "      <td>229.095566</td>\n",
       "    </tr>\n",
       "    <tr>\n",
       "      <th>2</th>\n",
       "      <td>2023-02-10</td>\n",
       "      <td>270.642120</td>\n",
       "      <td>264.994843</td>\n",
       "    </tr>\n",
       "    <tr>\n",
       "      <th>3</th>\n",
       "      <td>2023-02-10</td>\n",
       "      <td>270.642120</td>\n",
       "      <td>265.087494</td>\n",
       "    </tr>\n",
       "    <tr>\n",
       "      <th>4</th>\n",
       "      <td>2023-03-07</td>\n",
       "      <td>253.699997</td>\n",
       "      <td>256.054474</td>\n",
       "    </tr>\n",
       "    <tr>\n",
       "      <th>...</th>\n",
       "      <td>...</td>\n",
       "      <td>...</td>\n",
       "      <td>...</td>\n",
       "    </tr>\n",
       "    <tr>\n",
       "      <th>53549</th>\n",
       "      <td>2022-12-16</td>\n",
       "      <td>239.849243</td>\n",
       "      <td>246.418030</td>\n",
       "    </tr>\n",
       "    <tr>\n",
       "      <th>53550</th>\n",
       "      <td>2022-12-09</td>\n",
       "      <td>251.879105</td>\n",
       "      <td>246.600815</td>\n",
       "    </tr>\n",
       "    <tr>\n",
       "      <th>53551</th>\n",
       "      <td>2023-02-27</td>\n",
       "      <td>249.419998</td>\n",
       "      <td>251.716461</td>\n",
       "    </tr>\n",
       "    <tr>\n",
       "      <th>53552</th>\n",
       "      <td>2022-12-08</td>\n",
       "      <td>244.806824</td>\n",
       "      <td>247.575104</td>\n",
       "    </tr>\n",
       "    <tr>\n",
       "      <th>53553</th>\n",
       "      <td>2023-02-24</td>\n",
       "      <td>250.160004</td>\n",
       "      <td>251.241257</td>\n",
       "    </tr>\n",
       "  </tbody>\n",
       "</table>\n",
       "<p>53554 rows × 3 columns</p>\n",
       "</div>"
      ],
      "text/plain": [
       "            date  real_value  prediction\n",
       "0     2023-02-21  251.509995  256.248413\n",
       "1     2023-01-04  221.754562  229.095566\n",
       "2     2023-02-10  270.642120  264.994843\n",
       "3     2023-02-10  270.642120  265.087494\n",
       "4     2023-03-07  253.699997  256.054474\n",
       "...          ...         ...         ...\n",
       "53549 2022-12-16  239.849243  246.418030\n",
       "53550 2022-12-09  251.879105  246.600815\n",
       "53551 2023-02-27  249.419998  251.716461\n",
       "53552 2022-12-08  244.806824  247.575104\n",
       "53553 2023-02-24  250.160004  251.241257\n",
       "\n",
       "[53554 rows x 3 columns]"
      ]
     },
     "execution_count": 52,
     "metadata": {},
     "output_type": "execute_result"
    }
   ],
   "source": [
    "date_df = pd.DataFrame(date_test)\n",
    "date_df['real_val'] = test_y\n",
    "date_df\n",
    "\n",
    "result = model.predict(test_x)\n",
    "predictions = result[:,0]\n",
    "\n",
    "date_df['pred'] = predictions\n",
    "date_df.columns = ['date', 'real_value', 'prediction']\n",
    "date_df"
   ]
  },
  {
   "cell_type": "code",
   "execution_count": null,
   "id": "af10d63b",
   "metadata": {},
   "outputs": [],
   "source": []
  },
  {
   "cell_type": "code",
   "execution_count": 53,
   "id": "6b9cb070",
   "metadata": {},
   "outputs": [
    {
     "data": {
      "text/plain": [
       "<matplotlib.legend.Legend at 0x1fcff466848>"
      ]
     },
     "execution_count": 53,
     "metadata": {},
     "output_type": "execute_result"
    },
    {
     "data": {
      "image/png": "[encoded data removed]",
      "text/plain": [
       "<Figure size 1000x600 with 1 Axes>"
      ]
     },
     "metadata": {},
     "output_type": "display_data"
    }
   ],
   "source": [
    "plt.figure(figsize=(10, 6))\n",
    "sns.lineplot(data=date_df, x=\"date\", y=\"real_value\", label = 'real value')\n",
    "sns.lineplot(data=date_df, x=\"date\", y=\"prediction\", color='r', label = 'prediction')\n",
    "plt.legend()"
   ]
  },
  {
   "cell_type": "code",
   "execution_count": 54,
   "id": "a3ff6282",
   "metadata": {},
   "outputs": [
    {
     "data": {
      "text/plain": [
       "4.751265888044729"
      ]
     },
     "execution_count": 54,
     "metadata": {},
     "output_type": "execute_result"
    }
   ],
   "source": [
    "from sklearn.metrics import mean_absolute_error, mean_squared_error\n",
    "\n",
    "np.sqrt(mean_squared_error(test_y, predictions))"
   ]
  },
  {
   "cell_type": "code",
   "execution_count": 55,
   "id": "e969f007",
   "metadata": {},
   "outputs": [
    {
     "data": {
      "text/plain": [
       "3.9917706242217057"
      ]
     },
     "execution_count": 55,
     "metadata": {},
     "output_type": "execute_result"
    }
   ],
   "source": [
    "mean_absolute_error(test_y, predictions)"
   ]
  },
  {
   "cell_type": "code",
   "execution_count": null,
   "id": "6ae52ab3",
   "metadata": {},
   "outputs": [],
   "source": []
  },
  {
   "cell_type": "markdown",
   "id": "9dd5d0d2",
   "metadata": {},
   "source": [
    "# Approach for overfitting - Early Stop"
   ]
  },
  {
   "cell_type": "code",
   "execution_count": 56,
   "id": "35a5b8a9",
   "metadata": {},
   "outputs": [],
   "source": [
    "# hidden layers: Less than 2x (input size)\n",
    "model = Sequential()\n",
    "\n",
    "model.add(Dense(256, activation='relu'))\n",
    "model.add(Dense(256, activation='relu'))\n",
    "model.add(Dense(256, activation='relu'))\n",
    "model.add(Dense(256, activation='relu'))\n",
    "model.add(Dense(256, activation='relu'))\n",
    "\n",
    "model.add(Dense(1))\n",
    "\n",
    "model.compile(optimizer='adam', loss='mse')"
   ]
  },
  {
   "cell_type": "code",
   "execution_count": 57,
   "id": "539b6b23",
   "metadata": {},
   "outputs": [],
   "source": [
    "from tensorflow.keras.callbacks import EarlyStopping"
   ]
  },
  {
   "cell_type": "code",
   "execution_count": null,
   "id": "2fe1434c",
   "metadata": {},
   "outputs": [],
   "source": []
  },
  {
   "cell_type": "code",
   "execution_count": null,
   "id": "99797264",
   "metadata": {
    "scrolled": false
   },
   "outputs": [],
   "source": []
  },
  {
   "cell_type": "code",
   "execution_count": 58,
   "id": "d4559a12",
   "metadata": {},
   "outputs": [],
   "source": [
    "early_stop = EarlyStopping(monitor='val_loss', mode='min', verbose=1,patience=5)\n",
    "\n",
    "# minimize the loss function\n",
    "# patience = we wait 5 epochs even after we detected the stopping point"
   ]
  },
  {
   "cell_type": "code",
   "execution_count": 59,
   "id": "548028e8",
   "metadata": {},
   "outputs": [
    {
     "name": "stdout",
     "output_type": "stream",
     "text": [
      "Train on 160662 samples, validate on 53555 samples\n",
      "Epoch 1/20\n",
      "160662/160662 [==============================] - 25s 153us/sample - loss: 309.0042 - val_loss: 26.3593\n",
      "Epoch 2/20\n",
      "160662/160662 [==============================] - 25s 153us/sample - loss: 34.0597 - val_loss: 31.0286\n",
      "Epoch 3/20\n",
      "160662/160662 [==============================] - 25s 157us/sample - loss: 30.9622 - val_loss: 23.9912\n",
      "Epoch 4/20\n",
      "160662/160662 [==============================] - 25s 156us/sample - loss: 28.7313 - val_loss: 35.5836\n",
      "Epoch 5/20\n",
      "160662/160662 [==============================] - 25s 157us/sample - loss: 27.7607 - val_loss: 26.1182\n",
      "Epoch 6/20\n",
      "160662/160662 [==============================] - 26s 161us/sample - loss: 26.4289 - val_loss: 30.8361\n",
      "Epoch 7/20\n",
      "160662/160662 [==============================] - 25s 155us/sample - loss: 25.8239 - val_loss: 24.1895\n",
      "Epoch 8/20\n",
      "160662/160662 [==============================] - 26s 163us/sample - loss: 25.2825 - val_loss: 22.5895\n",
      "Epoch 9/20\n",
      "160662/160662 [==============================] - 25s 153us/sample - loss: 24.9946 - val_loss: 30.7323\n",
      "Epoch 10/20\n",
      "160662/160662 [==============================] - 25s 154us/sample - loss: 24.4912 - val_loss: 22.8738\n",
      "Epoch 11/20\n",
      "160662/160662 [==============================] - 25s 158us/sample - loss: 24.2380 - val_loss: 24.2621\n",
      "Epoch 12/20\n",
      "160662/160662 [==============================] - 25s 157us/sample - loss: 23.9040 - val_loss: 21.5716\n",
      "Epoch 13/20\n",
      "160662/160662 [==============================] - 26s 164us/sample - loss: 23.7177 - val_loss: 25.8081\n",
      "Epoch 14/20\n",
      "160662/160662 [==============================] - 25s 157us/sample - loss: 23.6014 - val_loss: 26.2073\n",
      "Epoch 15/20\n",
      "160662/160662 [==============================] - 25s 158us/sample - loss: 23.1082 - val_loss: 23.5032\n",
      "Epoch 16/20\n",
      "160662/160662 [==============================] - 25s 159us/sample - loss: 22.3204 - val_loss: 20.9592\n",
      "Epoch 17/20\n",
      "160662/160662 [==============================] - 25s 156us/sample - loss: 21.6482 - val_loss: 21.8256\n",
      "Epoch 18/20\n",
      "160662/160662 [==============================] - 27s 168us/sample - loss: 21.4205 - val_loss: 30.6845\n",
      "Epoch 19/20\n",
      "160662/160662 [==============================] - 25s 155us/sample - loss: 21.3752 - val_loss: 19.2168\n",
      "Epoch 20/20\n",
      "160662/160662 [==============================] - 25s 158us/sample - loss: 21.1354 - val_loss: 29.4934\n"
     ]
    },
    {
     "data": {
      "text/plain": [
       "<tensorflow.python.keras.callbacks.History at 0x1fcff679708>"
      ]
     },
     "execution_count": 59,
     "metadata": {},
     "output_type": "execute_result"
    }
   ],
   "source": [
    "model.fit(x=train_x, y=train_y, epochs=30, validation_data=(valid_x,valid_y), callbacks=[early_stop])"
   ]
  },
  {
   "cell_type": "code",
   "execution_count": 75,
   "id": "091545b4",
   "metadata": {},
   "outputs": [
    {
     "data": {
      "text/plain": [
       "<matplotlib.legend.Legend at 0x1fc84a81888>"
      ]
     },
     "execution_count": 75,
     "metadata": {},
     "output_type": "execute_result"
    },
    {
     "data": {
      "image/png": "[encoded data removed]",
      "text/plain": [
       "<Figure size 640x480 with 1 Axes>"
      ]
     },
     "metadata": {},
     "output_type": "display_data"
    }
   ],
   "source": [
    "model_loss = pd.DataFrame(model.history.history)\n",
    "model_loss.plot()\n",
    "\n",
    "plt.xlabel(\"epochs\")\n",
    "plt.ylabel(\"mse\")\n",
    "plt.legend()"
   ]
  },
  {
   "cell_type": "code",
   "execution_count": null,
   "id": "49d1682e",
   "metadata": {},
   "outputs": [],
   "source": []
  },
  {
   "cell_type": "code",
   "execution_count": 62,
   "id": "30cff5a2",
   "metadata": {},
   "outputs": [
    {
     "data": {
      "text/html": [
       "<div>\n",
       "<style scoped>\n",
       "    .dataframe tbody tr th:only-of-type {\n",
       "        vertical-align: middle;\n",
       "    }\n",
       "\n",
       "    .dataframe tbody tr th {\n",
       "        vertical-align: top;\n",
       "    }\n",
       "\n",
       "    .dataframe thead th {\n",
       "        text-align: right;\n",
       "    }\n",
       "</style>\n",
       "<table border=\"1\" class=\"dataframe\">\n",
       "  <thead>\n",
       "    <tr style=\"text-align: right;\">\n",
       "      <th></th>\n",
       "      <th>date</th>\n",
       "      <th>real_value</th>\n",
       "      <th>prediction</th>\n",
       "    </tr>\n",
       "  </thead>\n",
       "  <tbody>\n",
       "    <tr>\n",
       "      <th>0</th>\n",
       "      <td>2023-02-21</td>\n",
       "      <td>251.509995</td>\n",
       "      <td>251.187012</td>\n",
       "    </tr>\n",
       "    <tr>\n",
       "      <th>1</th>\n",
       "      <td>2023-01-04</td>\n",
       "      <td>221.754562</td>\n",
       "      <td>227.506058</td>\n",
       "    </tr>\n",
       "    <tr>\n",
       "      <th>2</th>\n",
       "      <td>2023-02-10</td>\n",
       "      <td>270.642120</td>\n",
       "      <td>260.044800</td>\n",
       "    </tr>\n",
       "    <tr>\n",
       "      <th>3</th>\n",
       "      <td>2023-02-10</td>\n",
       "      <td>270.642120</td>\n",
       "      <td>260.180481</td>\n",
       "    </tr>\n",
       "    <tr>\n",
       "      <th>4</th>\n",
       "      <td>2023-03-07</td>\n",
       "      <td>253.699997</td>\n",
       "      <td>252.899033</td>\n",
       "    </tr>\n",
       "    <tr>\n",
       "      <th>...</th>\n",
       "      <td>...</td>\n",
       "      <td>...</td>\n",
       "      <td>...</td>\n",
       "    </tr>\n",
       "    <tr>\n",
       "      <th>53549</th>\n",
       "      <td>2022-12-16</td>\n",
       "      <td>239.849243</td>\n",
       "      <td>241.674973</td>\n",
       "    </tr>\n",
       "    <tr>\n",
       "      <th>53550</th>\n",
       "      <td>2022-12-09</td>\n",
       "      <td>251.879105</td>\n",
       "      <td>249.009262</td>\n",
       "    </tr>\n",
       "    <tr>\n",
       "      <th>53551</th>\n",
       "      <td>2023-02-27</td>\n",
       "      <td>249.419998</td>\n",
       "      <td>247.786240</td>\n",
       "    </tr>\n",
       "    <tr>\n",
       "      <th>53552</th>\n",
       "      <td>2022-12-08</td>\n",
       "      <td>244.806824</td>\n",
       "      <td>243.358902</td>\n",
       "    </tr>\n",
       "    <tr>\n",
       "      <th>53553</th>\n",
       "      <td>2023-02-24</td>\n",
       "      <td>250.160004</td>\n",
       "      <td>246.571884</td>\n",
       "    </tr>\n",
       "  </tbody>\n",
       "</table>\n",
       "<p>53554 rows × 3 columns</p>\n",
       "</div>"
      ],
      "text/plain": [
       "            date  real_value  prediction\n",
       "0     2023-02-21  251.509995  251.187012\n",
       "1     2023-01-04  221.754562  227.506058\n",
       "2     2023-02-10  270.642120  260.044800\n",
       "3     2023-02-10  270.642120  260.180481\n",
       "4     2023-03-07  253.699997  252.899033\n",
       "...          ...         ...         ...\n",
       "53549 2022-12-16  239.849243  241.674973\n",
       "53550 2022-12-09  251.879105  249.009262\n",
       "53551 2023-02-27  249.419998  247.786240\n",
       "53552 2022-12-08  244.806824  243.358902\n",
       "53553 2023-02-24  250.160004  246.571884\n",
       "\n",
       "[53554 rows x 3 columns]"
      ]
     },
     "execution_count": 62,
     "metadata": {},
     "output_type": "execute_result"
    }
   ],
   "source": [
    "date_df = pd.DataFrame(date_test)\n",
    "date_df['real_val'] = test_y\n",
    "\n",
    "result = model.predict(test_x)\n",
    "predictions = result[:,0]\n",
    "\n",
    "date_df['pred'] = predictions\n",
    "date_df.columns = ['date', 'real_value', 'prediction']\n",
    "date_df"
   ]
  },
  {
   "cell_type": "code",
   "execution_count": null,
   "id": "79de8e97",
   "metadata": {},
   "outputs": [],
   "source": []
  },
  {
   "cell_type": "code",
   "execution_count": 63,
   "id": "62a2d0be",
   "metadata": {},
   "outputs": [
    {
     "data": {
      "text/plain": [
       "<matplotlib.legend.Legend at 0x1fcffd59c08>"
      ]
     },
     "execution_count": 63,
     "metadata": {},
     "output_type": "execute_result"
    },
    {
     "data": {
      "image/png": "[encoded data removed]",
      "text/plain": [
       "<Figure size 1000x600 with 1 Axes>"
      ]
     },
     "metadata": {},
     "output_type": "display_data"
    }
   ],
   "source": [
    "plt.figure(figsize=(10, 6))\n",
    "sns.lineplot(data=date_df, x=\"date\", y=\"real_value\", marker = \"o\", label = 'real value')\n",
    "sns.lineplot(data=date_df, x=\"date\", y=\"prediction\", marker = \"o\", color='r', label = 'prediction')\n",
    "plt.legend()"
   ]
  },
  {
   "cell_type": "code",
   "execution_count": null,
   "id": "2590f777",
   "metadata": {},
   "outputs": [],
   "source": []
  },
  {
   "cell_type": "code",
   "execution_count": null,
   "id": "4683c2e6",
   "metadata": {},
   "outputs": [],
   "source": []
  },
  {
   "cell_type": "markdown",
   "id": "666a81d9",
   "metadata": {},
   "source": [
    "# Approach for overfitting - Add dropout layers"
   ]
  },
  {
   "cell_type": "code",
   "execution_count": 64,
   "id": "72eca898",
   "metadata": {},
   "outputs": [],
   "source": [
    "from tensorflow.keras.layers import Dropout"
   ]
  },
  {
   "cell_type": "code",
   "execution_count": 65,
   "id": "132761f0",
   "metadata": {},
   "outputs": [],
   "source": [
    "model = Sequential()\n",
    "\n",
    "model.add(Dense(256, activation='relu'))\n",
    "model.add(Dropout(0.5)) # randomly sets a fraction of input units to 0 at each update \n",
    "\n",
    "model.add(Dense(256, activation='relu'))\n",
    "model.add(Dropout(0.5)) # randomly sets a fraction of input units to 0 at each update \n",
    "\n",
    "model.add(Dense(256, activation='relu'))\n",
    "model.add(Dropout(0.5)) # randomly sets a fraction of input units to 0 at each update \n",
    "\n",
    "model.add(Dense(256, activation='relu'))\n",
    "model.add(Dropout(0.5)) # randomly sets a fraction of input units to 0 at each update \n",
    "\n",
    "model.add(Dense(1))\n",
    "\n",
    "model.compile(optimizer='adam', loss='mse')"
   ]
  },
  {
   "cell_type": "code",
   "execution_count": 66,
   "id": "8c92a8f7",
   "metadata": {},
   "outputs": [
    {
     "name": "stdout",
     "output_type": "stream",
     "text": [
      "Train on 160662 samples, validate on 53555 samples\n",
      "Epoch 1/20\n",
      "160662/160662 [==============================] - 12s 72us/sample - loss: 3785.5099 - val_loss: 658.0335\n",
      "Epoch 2/20\n",
      "160662/160662 [==============================] - 10s 63us/sample - loss: 1067.4052 - val_loss: 227.9698\n",
      "Epoch 3/20\n",
      "160662/160662 [==============================] - 10s 64us/sample - loss: 896.4300 - val_loss: 87.0989\n",
      "Epoch 4/20\n",
      "160662/160662 [==============================] - 10s 64us/sample - loss: 819.5852 - val_loss: 44.8651\n",
      "Epoch 5/20\n",
      "160662/160662 [==============================] - 10s 62us/sample - loss: 760.8222 - val_loss: 28.9523\n",
      "Epoch 6/20\n",
      "160662/160662 [==============================] - 10s 64us/sample - loss: 731.7280 - val_loss: 47.1036\n",
      "Epoch 7/20\n",
      "160662/160662 [==============================] - 10s 63us/sample - loss: 719.4216 - val_loss: 41.4932\n",
      "Epoch 8/20\n",
      "160662/160662 [==============================] - 10s 63us/sample - loss: 695.0996 - val_loss: 31.7885\n",
      "Epoch 9/20\n",
      "160662/160662 [==============================] - 10s 64us/sample - loss: 678.7453 - val_loss: 32.7741\n",
      "Epoch 10/20\n",
      "160662/160662 [==============================] - 10s 63us/sample - loss: 662.0505 - val_loss: 28.3421\n",
      "Epoch 11/20\n",
      "160662/160662 [==============================] - 10s 64us/sample - loss: 639.4845 - val_loss: 30.9726\n",
      "Epoch 12/20\n",
      "160662/160662 [==============================] - 10s 64us/sample - loss: 623.2350 - val_loss: 28.5604\n",
      "Epoch 13/20\n",
      "160662/160662 [==============================] - 10s 63us/sample - loss: 595.5159 - val_loss: 56.5939\n",
      "Epoch 14/20\n",
      "160662/160662 [==============================] - 10s 64us/sample - loss: 573.7397 - val_loss: 42.8539\n",
      "Epoch 15/20\n",
      "160662/160662 [==============================] - 10s 64us/sample - loss: 554.4487 - val_loss: 27.2913\n",
      "Epoch 16/20\n",
      "160662/160662 [==============================] - 10s 63us/sample - loss: 529.6813 - val_loss: 33.1196\n",
      "Epoch 17/20\n",
      "160662/160662 [==============================] - 10s 64us/sample - loss: 516.3181 - val_loss: 29.7288\n",
      "Epoch 18/20\n",
      "160662/160662 [==============================] - 10s 64us/sample - loss: 496.7112 - val_loss: 35.5219\n",
      "Epoch 19/20\n",
      "160662/160662 [==============================] - 10s 64us/sample - loss: 486.6031 - val_loss: 26.7459\n",
      "Epoch 20/20\n",
      "160662/160662 [==============================] - 10s 64us/sample - loss: 470.1494 - val_loss: 24.3081\n"
     ]
    },
    {
     "data": {
      "text/plain": [
       "<tensorflow.python.keras.callbacks.History at 0x1fc8293ae88>"
      ]
     },
     "execution_count": 66,
     "metadata": {},
     "output_type": "execute_result"
    }
   ],
   "source": [
    "model.fit(x=train_x, y=train_y, epochs=30, batch_size= 256, validation_data=(valid_x,valid_y), callbacks=[early_stop])"
   ]
  },
  {
   "cell_type": "markdown",
   "id": "76de90fc",
   "metadata": {},
   "source": [
    "# Evaluating the Model"
   ]
  },
  {
   "cell_type": "code",
   "execution_count": 76,
   "id": "b9d59528",
   "metadata": {},
   "outputs": [
    {
     "data": {
      "text/plain": [
       "<matplotlib.legend.Legend at 0x1fc84b42f88>"
      ]
     },
     "execution_count": 76,
     "metadata": {},
     "output_type": "execute_result"
    },
    {
     "data": {
      "image/png": "[encoded data removed]",
      "text/plain": [
       "<Figure size 640x480 with 1 Axes>"
      ]
     },
     "metadata": {},
     "output_type": "display_data"
    }
   ],
   "source": [
    "losses = pd.DataFrame(model.history.history)\n",
    "\n",
    "losses.plot()\n",
    "plt.xlabel(\"epochs\")\n",
    "plt.ylabel(\"mse\")\n",
    "plt.legend()"
   ]
  },
  {
   "cell_type": "code",
   "execution_count": 68,
   "id": "dcb7e13e",
   "metadata": {},
   "outputs": [
    {
     "data": {
      "text/plain": [
       "array([[ 1.49502781, -0.39791832, -0.95493774,  0.15004541],\n",
       "       [-0.44377444, -0.48393212,  0.7459808 , -1.7149086 ],\n",
       "       [-0.78987985,  0.70278892,  0.12612513,  0.90496517],\n",
       "       ...,\n",
       "       [ 0.06657724,  0.27630518, -0.26841102, -0.04384696],\n",
       "       [-0.80927993, -0.40812823,  0.99594641, -0.30480108],\n",
       "       [ 0.9173533 , -0.06012917, -0.72733719, -0.11646045]])"
      ]
     },
     "execution_count": 68,
     "metadata": {},
     "output_type": "execute_result"
    }
   ],
   "source": [
    "test_x"
   ]
  },
  {
   "cell_type": "code",
   "execution_count": 69,
   "id": "2f2b4ad2",
   "metadata": {},
   "outputs": [],
   "source": [
    "# Create predictions from the test_x set \n",
    "\n",
    "predictions = model.predict(test_x)"
   ]
  },
  {
   "cell_type": "code",
   "execution_count": 70,
   "id": "6dadc646",
   "metadata": {},
   "outputs": [
    {
     "data": {
      "text/plain": [
       "4.934595997043823"
      ]
     },
     "execution_count": 70,
     "metadata": {},
     "output_type": "execute_result"
    }
   ],
   "source": [
    "# squared root error\n",
    "np.sqrt(mean_squared_error(test_y, predictions))"
   ]
  },
  {
   "cell_type": "code",
   "execution_count": 71,
   "id": "b15bf5be",
   "metadata": {},
   "outputs": [
    {
     "data": {
      "text/plain": [
       "4.13806202161853"
      ]
     },
     "execution_count": 71,
     "metadata": {},
     "output_type": "execute_result"
    }
   ],
   "source": [
    "mean_absolute_error(test_y, predictions)"
   ]
  },
  {
   "cell_type": "code",
   "execution_count": null,
   "id": "7a124b6e",
   "metadata": {},
   "outputs": [],
   "source": []
  },
  {
   "cell_type": "code",
   "execution_count": 73,
   "id": "d07f51bc",
   "metadata": {},
   "outputs": [
    {
     "data": {
      "text/html": [
       "<div>\n",
       "<style scoped>\n",
       "    .dataframe tbody tr th:only-of-type {\n",
       "        vertical-align: middle;\n",
       "    }\n",
       "\n",
       "    .dataframe tbody tr th {\n",
       "        vertical-align: top;\n",
       "    }\n",
       "\n",
       "    .dataframe thead th {\n",
       "        text-align: right;\n",
       "    }\n",
       "</style>\n",
       "<table border=\"1\" class=\"dataframe\">\n",
       "  <thead>\n",
       "    <tr style=\"text-align: right;\">\n",
       "      <th></th>\n",
       "      <th>date</th>\n",
       "      <th>real_value</th>\n",
       "      <th>prediction</th>\n",
       "    </tr>\n",
       "  </thead>\n",
       "  <tbody>\n",
       "    <tr>\n",
       "      <th>0</th>\n",
       "      <td>2023-02-21</td>\n",
       "      <td>251.509995</td>\n",
       "      <td>252.599518</td>\n",
       "    </tr>\n",
       "    <tr>\n",
       "      <th>1</th>\n",
       "      <td>2023-01-04</td>\n",
       "      <td>221.754562</td>\n",
       "      <td>230.886520</td>\n",
       "    </tr>\n",
       "    <tr>\n",
       "      <th>2</th>\n",
       "      <td>2023-02-10</td>\n",
       "      <td>270.642120</td>\n",
       "      <td>265.768433</td>\n",
       "    </tr>\n",
       "    <tr>\n",
       "      <th>3</th>\n",
       "      <td>2023-02-10</td>\n",
       "      <td>270.642120</td>\n",
       "      <td>266.590729</td>\n",
       "    </tr>\n",
       "    <tr>\n",
       "      <th>4</th>\n",
       "      <td>2023-03-07</td>\n",
       "      <td>253.699997</td>\n",
       "      <td>258.757324</td>\n",
       "    </tr>\n",
       "    <tr>\n",
       "      <th>...</th>\n",
       "      <td>...</td>\n",
       "      <td>...</td>\n",
       "      <td>...</td>\n",
       "    </tr>\n",
       "    <tr>\n",
       "      <th>53549</th>\n",
       "      <td>2022-12-16</td>\n",
       "      <td>239.849243</td>\n",
       "      <td>246.046219</td>\n",
       "    </tr>\n",
       "    <tr>\n",
       "      <th>53550</th>\n",
       "      <td>2022-12-09</td>\n",
       "      <td>251.879105</td>\n",
       "      <td>246.341049</td>\n",
       "    </tr>\n",
       "    <tr>\n",
       "      <th>53551</th>\n",
       "      <td>2023-02-27</td>\n",
       "      <td>249.419998</td>\n",
       "      <td>250.094604</td>\n",
       "    </tr>\n",
       "    <tr>\n",
       "      <th>53552</th>\n",
       "      <td>2022-12-08</td>\n",
       "      <td>244.806824</td>\n",
       "      <td>247.688324</td>\n",
       "    </tr>\n",
       "    <tr>\n",
       "      <th>53553</th>\n",
       "      <td>2023-02-24</td>\n",
       "      <td>250.160004</td>\n",
       "      <td>248.346252</td>\n",
       "    </tr>\n",
       "  </tbody>\n",
       "</table>\n",
       "<p>53554 rows × 3 columns</p>\n",
       "</div>"
      ],
      "text/plain": [
       "            date  real_value  prediction\n",
       "0     2023-02-21  251.509995  252.599518\n",
       "1     2023-01-04  221.754562  230.886520\n",
       "2     2023-02-10  270.642120  265.768433\n",
       "3     2023-02-10  270.642120  266.590729\n",
       "4     2023-03-07  253.699997  258.757324\n",
       "...          ...         ...         ...\n",
       "53549 2022-12-16  239.849243  246.046219\n",
       "53550 2022-12-09  251.879105  246.341049\n",
       "53551 2023-02-27  249.419998  250.094604\n",
       "53552 2022-12-08  244.806824  247.688324\n",
       "53553 2023-02-24  250.160004  248.346252\n",
       "\n",
       "[53554 rows x 3 columns]"
      ]
     },
     "execution_count": 73,
     "metadata": {},
     "output_type": "execute_result"
    }
   ],
   "source": [
    "date_df = pd.DataFrame(date_test)\n",
    "date_df['real_val'] = test_y\n",
    "\n",
    "result = model.predict(test_x)\n",
    "predictions = result[:,0]\n",
    "\n",
    "date_df['pred'] = predictions\n",
    "date_df.columns = ['date', 'real_value', 'prediction']\n",
    "date_df"
   ]
  },
  {
   "cell_type": "code",
   "execution_count": null,
   "id": "6b7f7781",
   "metadata": {},
   "outputs": [],
   "source": []
  },
  {
   "cell_type": "code",
   "execution_count": 74,
   "id": "d23225c9",
   "metadata": {},
   "outputs": [
    {
     "data": {
      "text/plain": [
       "<matplotlib.legend.Legend at 0x1fc84a57088>"
      ]
     },
     "execution_count": 74,
     "metadata": {},
     "output_type": "execute_result"
    },
    {
     "data": {
      "image/png": "[encoded data removed]",
      "text/plain": [
       "<Figure size 1000x600 with 1 Axes>"
      ]
     },
     "metadata": {},
     "output_type": "display_data"
    }
   ],
   "source": [
    "plt.figure(figsize=(10, 6))\n",
    "sns.lineplot(data=date_df, x=\"date\", y=\"real_value\", marker = \"o\", label = 'real value')\n",
    "sns.lineplot(data=date_df, x=\"date\", y=\"prediction\", marker = \"o\", color='r', label = 'prediction')\n",
    "plt.legend()"
   ]
  },
  {
   "cell_type": "code",
   "execution_count": null,
   "id": "0f540dbf",
   "metadata": {},
   "outputs": [],
   "source": []
  },
  {
   "cell_type": "code",
   "execution_count": null,
   "id": "5eb23b4c",
   "metadata": {},
   "outputs": [],
   "source": []
  }
 ],
 "metadata": {
  "kernelspec": {
   "display_name": "Python 3 (ipykernel)",
   "language": "python",
   "name": "python3"
  },
  "language_info": {
   "codemirror_mode": {
    "name": "ipython",
    "version": 3
   },
   "file_extension": ".py",
   "mimetype": "text/x-python",
   "name": "python",
   "nbconvert_exporter": "python",
   "pygments_lexer": "ipython3",
   "version": "3.7.12"
  }
 },
 "nbformat": 4,
 "nbformat_minor": 5
}
